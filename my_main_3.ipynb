{
 "cells": [
  {
   "cell_type": "code",
   "execution_count": 7,
   "metadata": {},
   "outputs": [
    {
     "data": {
      "application/vnd.jupyter.widget-view+json": {
       "model_id": "210559fe16394a04b3066fbfefdfcfcd",
       "version_major": 2,
       "version_minor": 0
      },
      "text/plain": [
       "Loading checkpoint shards:   0%|          | 0/11 [00:00<?, ?it/s]"
      ]
     },
     "metadata": {},
     "output_type": "display_data"
    }
   ],
   "source": [
    "import re\n",
    "import random\n",
    "import time\n",
    "from statistics import mode\n",
    "from collections import Counter\n",
    "\n",
    "from PIL import Image\n",
    "import numpy as np\n",
    "import pandas as pd\n",
    "from sklearn.utils import resample\n",
    "\n",
    "import torch\n",
    "import torch.nn as nn\n",
    "import torch.nn.functional as F\n",
    "from torch.utils.data import Dataset\n",
    "\n",
    "import torchvision\n",
    "from torchvision import transforms\n",
    "from torchvision.transforms.functional import InterpolationMode\n",
    "\n",
    "from tqdm import tqdm\n",
    "\n",
    "from transformers import AutoTokenizer, AutoModel, BitsAndBytesConfig\n",
    "\n",
    "model_path = \"/workspace/models/InternVL-Chat-V1-5\"\n",
    "tokenizer = AutoTokenizer.from_pretrained(model_path, trust_remote_code=True)\n",
    "\n",
    "# 4bit量子化の設定\n",
    "bnb_config = BitsAndBytesConfig(\n",
    "    load_in_4bit=True,\n",
    "    bnb_4bit_use_double_quant=True,\n",
    "    bnb_4bit_quant_type=\"nf4\",\n",
    "    bnb_4bit_compute_dtype=torch.bfloat16\n",
    ")\n",
    "\n",
    "# 学習済みモデルの読み込み\n",
    "intern_model = AutoModel.from_pretrained(model_path, quantization_config=bnb_config, device_map=\"auto\", torch_dtype=torch.bfloat16).eval()"
   ]
  },
  {
   "cell_type": "code",
   "execution_count": 4,
   "metadata": {},
   "outputs": [],
   "source": [
    "df = pd.read_json(\"/workspace/data/train.json\")"
   ]
  },
  {
   "cell_type": "code",
   "execution_count": 8,
   "metadata": {},
   "outputs": [
    {
     "ename": "KeyError",
     "evalue": "'answer'",
     "output_type": "error",
     "traceback": [
      "\u001b[0;31m---------------------------------------------------------------------------\u001b[0m",
      "\u001b[0;31mKeyError\u001b[0m                                  Traceback (most recent call last)",
      "Cell \u001b[0;32mIn[8], line 7\u001b[0m\n\u001b[1;32m      4\u001b[0m     training_json \u001b[38;5;241m=\u001b[39m json\u001b[38;5;241m.\u001b[39mload(f)\n\u001b[1;32m      6\u001b[0m question_length \u001b[38;5;241m=\u001b[39m []\n\u001b[0;32m----> 7\u001b[0m \u001b[38;5;28;01mfor\u001b[39;00m question \u001b[38;5;129;01min\u001b[39;00m \u001b[43mtraining_json\u001b[49m\u001b[43m[\u001b[49m\u001b[38;5;124;43m\"\u001b[39;49m\u001b[38;5;124;43manswer\u001b[39;49m\u001b[38;5;124;43m\"\u001b[39;49m\u001b[43m]\u001b[49m\u001b[38;5;241m.\u001b[39mvalues():\n\u001b[1;32m      8\u001b[0m     \u001b[38;5;28mprint\u001b[39m(question)\n\u001b[1;32m      9\u001b[0m     \u001b[38;5;28;01mbreak\u001b[39;00m\n",
      "\u001b[0;31mKeyError\u001b[0m: 'answer'"
     ]
    }
   ],
   "source": [
    "import json\n",
    "import matplotlib.pyplot as plt\n",
    "with open(\"/workspace/data/train.json\") as f:\n",
    "    training_json = json.load(f)\n",
    "\n",
    "question_length = []\n",
    "for question in training_json[\"answer\"].values():\n",
    "    print(question)\n",
    "    break\n",
    "\n",
    "# plt.hist(question_length, bins=100)\n",
    "# print(max(question_length))"
   ]
  },
  {
   "cell_type": "code",
   "execution_count": 81,
   "metadata": {},
   "outputs": [],
   "source": [
    "df = pd.read_json(\"/workspace/data/train.json\")"
   ]
  },
  {
   "cell_type": "code",
   "execution_count": 5,
   "metadata": {},
   "outputs": [
    {
     "data": {
      "text/html": [
       "<div>\n",
       "<style scoped>\n",
       "    .dataframe tbody tr th:only-of-type {\n",
       "        vertical-align: middle;\n",
       "    }\n",
       "\n",
       "    .dataframe tbody tr th {\n",
       "        vertical-align: top;\n",
       "    }\n",
       "\n",
       "    .dataframe thead th {\n",
       "        text-align: right;\n",
       "    }\n",
       "</style>\n",
       "<table border=\"1\" class=\"dataframe\">\n",
       "  <thead>\n",
       "    <tr style=\"text-align: right;\">\n",
       "      <th></th>\n",
       "      <th>image</th>\n",
       "      <th>question</th>\n",
       "      <th>answers</th>\n",
       "    </tr>\n",
       "  </thead>\n",
       "  <tbody>\n",
       "    <tr>\n",
       "      <th>0</th>\n",
       "      <td>train_00000.jpg</td>\n",
       "      <td>What is this?</td>\n",
       "      <td>[{'answer_confidence': 'yes', 'answer': 'beef ...</td>\n",
       "    </tr>\n",
       "    <tr>\n",
       "      <th>1</th>\n",
       "      <td>train_00001.jpg</td>\n",
       "      <td>maybe it's because you're pushing it down instead</td>\n",
       "      <td>[{'answer_confidence': 'yes', 'answer': 'unans...</td>\n",
       "    </tr>\n",
       "    <tr>\n",
       "      <th>2</th>\n",
       "      <td>train_00002.jpg</td>\n",
       "      <td>What color is this item?</td>\n",
       "      <td>[{'answer_confidence': 'yes', 'answer': 'grey'...</td>\n",
       "    </tr>\n",
       "    <tr>\n",
       "      <th>3</th>\n",
       "      <td>train_00003.jpg</td>\n",
       "      <td>Can you tell me if this is like body wash or l...</td>\n",
       "      <td>[{'answer_confidence': 'maybe', 'answer': 'lot...</td>\n",
       "    </tr>\n",
       "    <tr>\n",
       "      <th>4</th>\n",
       "      <td>train_00004.jpg</td>\n",
       "      <td>Is it a paper?</td>\n",
       "      <td>[{'answer_confidence': 'yes', 'answer': 'no'},...</td>\n",
       "    </tr>\n",
       "    <tr>\n",
       "      <th>...</th>\n",
       "      <td>...</td>\n",
       "      <td>...</td>\n",
       "      <td>...</td>\n",
       "    </tr>\n",
       "    <tr>\n",
       "      <th>19868</th>\n",
       "      <td>train_19868.jpg</td>\n",
       "      <td>What's on this card please?</td>\n",
       "      <td>[{'answer_confidence': 'yes', 'answer': 'unans...</td>\n",
       "    </tr>\n",
       "    <tr>\n",
       "      <th>19869</th>\n",
       "      <td>train_19869.jpg</td>\n",
       "      <td>I can't tell what it is that I'm holding.</td>\n",
       "      <td>[{'answer_confidence': 'yes', 'answer': 'finge...</td>\n",
       "    </tr>\n",
       "    <tr>\n",
       "      <th>19870</th>\n",
       "      <td>train_19870.jpg</td>\n",
       "      <td>What does it say on this shirt?</td>\n",
       "      <td>[{'answer_confidence': 'yes', 'answer': 'hands...</td>\n",
       "    </tr>\n",
       "    <tr>\n",
       "      <th>19871</th>\n",
       "      <td>train_19871.jpg</td>\n",
       "      <td>I'm looking for the model number of this print...</td>\n",
       "      <td>[{'answer_confidence': 'yes', 'answer': 'unans...</td>\n",
       "    </tr>\n",
       "    <tr>\n",
       "      <th>19872</th>\n",
       "      <td>train_19872.jpg</td>\n",
       "      <td>Is there any writing on this side of the packa...</td>\n",
       "      <td>[{'answer_confidence': 'maybe', 'answer': 'yes...</td>\n",
       "    </tr>\n",
       "  </tbody>\n",
       "</table>\n",
       "<p>19873 rows × 3 columns</p>\n",
       "</div>"
      ],
      "text/plain": [
       "                 image                                           question  \\\n",
       "0      train_00000.jpg                                      What is this?   \n",
       "1      train_00001.jpg  maybe it's because you're pushing it down instead   \n",
       "2      train_00002.jpg                           What color is this item?   \n",
       "3      train_00003.jpg  Can you tell me if this is like body wash or l...   \n",
       "4      train_00004.jpg                                     Is it a paper?   \n",
       "...                ...                                                ...   \n",
       "19868  train_19868.jpg                        What's on this card please?   \n",
       "19869  train_19869.jpg         I can't tell what it is that I'm holding.    \n",
       "19870  train_19870.jpg                    What does it say on this shirt?   \n",
       "19871  train_19871.jpg  I'm looking for the model number of this print...   \n",
       "19872  train_19872.jpg  Is there any writing on this side of the packa...   \n",
       "\n",
       "                                                 answers  \n",
       "0      [{'answer_confidence': 'yes', 'answer': 'beef ...  \n",
       "1      [{'answer_confidence': 'yes', 'answer': 'unans...  \n",
       "2      [{'answer_confidence': 'yes', 'answer': 'grey'...  \n",
       "3      [{'answer_confidence': 'maybe', 'answer': 'lot...  \n",
       "4      [{'answer_confidence': 'yes', 'answer': 'no'},...  \n",
       "...                                                  ...  \n",
       "19868  [{'answer_confidence': 'yes', 'answer': 'unans...  \n",
       "19869  [{'answer_confidence': 'yes', 'answer': 'finge...  \n",
       "19870  [{'answer_confidence': 'yes', 'answer': 'hands...  \n",
       "19871  [{'answer_confidence': 'yes', 'answer': 'unans...  \n",
       "19872  [{'answer_confidence': 'maybe', 'answer': 'yes...  \n",
       "\n",
       "[19873 rows x 3 columns]"
      ]
     },
     "execution_count": 5,
     "metadata": {},
     "output_type": "execute_result"
    }
   ],
   "source": [
    "df"
   ]
  },
  {
   "cell_type": "code",
   "execution_count": 85,
   "metadata": {},
   "outputs": [
    {
     "name": "stdout",
     "output_type": "stream",
     "text": [
      "{'unanswerable': 7559, 'no': 481, 'yes': 476, 'white': 300, 'grey': 266, 'black': 227, 'blue': 195, 'red': 115, 'brown': 99, 'pink': 91, 'keyboard': 89, 'green': 73, 'laptop': 68, 'purple': 64, 'dog': 63, 'soup': 57, 'ph1': 53, 'yellow': 48, 'coca cola': 41, 'lotion': 40, 'cell ph1': 40, 'wine': 40, 'remote': 37, 'nothing': 36, 'tv': 35, 'corn': 35, 'orange': 34, 'computer screen': 33, 'pepsi': 33, 'coffee': 31, 'chair': 30, 'chicken': 29, 'computer': 28, 'green beans': 28, 'beer': 28, 'tan': 27, 'shampoo': 26, 'pen': 26, 'water bottle': 26, 'cup': 26, 'hand sanitizer': 25, 'remote control': 25, 'cereal': 24, 'black white': 23, '20': 22, 'm1y': 22, 'cat': 21, 'beans': 21, 'dr pepper': 20, 'flowers': 20, 'door': 20}\n"
     ]
    }
   ],
   "source": [
    "mode_answer_dict = {}\n",
    "for _, row in df.iterrows():\n",
    "    answers = [process_text(ans['answer']) for ans in row['answers']]\n",
    "    mode_answer = Counter(answers).most_common(1)[0][0]\n",
    "    if mode_answer not in mode_answer_dict:\n",
    "        mode_answer_dict[mode_answer] = 1\n",
    "    else:\n",
    "        mode_answer_dict[mode_answer] += 1\n",
    "\n",
    "for word, num in mode_answer_dict.items():\n",
    "    if num < 20:\n",
    "        mode_answer_dict[word] = 0\n",
    "\n",
    "mode_answer_dict = {k: v for k, v in mode_answer_dict.items() if v != 0}\n",
    "\n",
    "mode_answer_dict = dict(sorted(mode_answer_dict.items(), key=lambda x: x[1], reverse=True))\n",
    "print(mode_answer_dict)"
   ]
  },
  {
   "cell_type": "code",
   "execution_count": 87,
   "metadata": {},
   "outputs": [
    {
     "name": "stdout",
     "output_type": "stream",
     "text": [
      "3717\n"
     ]
    }
   ],
   "source": [
    "# unanswerable の sumを計算\n",
    "unanswerable_sum = 0\n",
    "for k, v in mode_answer_dict.items():\n",
    "    if k != \"unanswerable\":\n",
    "        unanswerable_sum += v\n",
    "print(unanswerable_sum)"
   ]
  },
  {
   "cell_type": "code",
   "execution_count": 75,
   "metadata": {},
   "outputs": [
    {
     "data": {
      "text/plain": [
       "['unanswerable',\n",
       " 'no',\n",
       " 'yes',\n",
       " 'white',\n",
       " 'grey',\n",
       " 'black',\n",
       " 'blue',\n",
       " 'red',\n",
       " 'brown',\n",
       " 'pink',\n",
       " 'keyboard',\n",
       " 'green',\n",
       " 'laptop',\n",
       " 'purple',\n",
       " 'dog',\n",
       " 'soup',\n",
       " 'ph1',\n",
       " 'yellow',\n",
       " 'coca cola',\n",
       " 'lotion',\n",
       " 'cell ph1',\n",
       " 'wine',\n",
       " 'remote',\n",
       " 'nothing',\n",
       " 'tv',\n",
       " 'corn',\n",
       " 'orange',\n",
       " 'computer screen',\n",
       " 'pepsi',\n",
       " 'coffee',\n",
       " 'chair',\n",
       " 'chicken',\n",
       " 'computer',\n",
       " 'green beans',\n",
       " 'beer',\n",
       " 'tan',\n",
       " 'shampoo',\n",
       " 'pen',\n",
       " 'water bottle',\n",
       " 'cup',\n",
       " 'hand sanitizer',\n",
       " 'remote control',\n",
       " 'cereal',\n",
       " 'black white',\n",
       " '20',\n",
       " 'm1y',\n",
       " 'cat',\n",
       " 'beans',\n",
       " 'dr pepper',\n",
       " 'flowers',\n",
       " 'door']"
      ]
     },
     "execution_count": 75,
     "metadata": {},
     "output_type": "execute_result"
    }
   ],
   "source": [
    "mode_answer"
   ]
  },
  {
   "cell_type": "code",
   "execution_count": 44,
   "metadata": {},
   "outputs": [],
   "source": [
    "from sklearn.utils import resample\n",
    "import torch\n",
    "from torch.utils.data import Dataset\n",
    "from collections import Counter\n",
    "import random"
   ]
  },
  {
   "cell_type": "code",
   "execution_count": 93,
   "metadata": {},
   "outputs": [],
   "source": [
    "def process_text(text):\n",
    "    text = text.lower()\n",
    "    num_word_to_digit = {\n",
    "        'zero': '0', 'one': '1', 'two': '2', 'three': '3', 'four': '4',\n",
    "        'five': '5', 'six': '6', 'seven': '7', 'eight': '8', 'nine': '9',\n",
    "        'ten': '10'\n",
    "    }\n",
    "    for word, digit in num_word_to_digit.items():\n",
    "        text = text.replace(word, digit)\n",
    "    text = re.sub(r'(?<!\\d)\\.(?!\\d)', '', text)\n",
    "    text = re.sub(r'\\b(a|an|the)\\b', '', text)\n",
    "    contractions = {\n",
    "        \"dont\": \"don't\", \"isnt\": \"isn't\", \"arent\": \"aren't\", \"wont\": \"won't\",\n",
    "        \"cant\": \"can't\", \"wouldnt\": \"wouldn't\", \"couldnt\": \"couldn't\"\n",
    "    }\n",
    "    for contraction, correct in contractions.items():\n",
    "        text = text.replace(contraction, correct)\n",
    "    text = re.sub(r\"[^\\w\\s':]\", ' ', text)\n",
    "    text = re.sub(r'\\s+,', ',', text)\n",
    "    text = re.sub(r'\\s+', ' ', text).strip()\n",
    "    return text\n",
    "\n",
    "IMAGENET_MEAN = (0.485, 0.456, 0.406)\n",
    "IMAGENET_STD = (0.229, 0.224, 0.225)\n",
    "\n",
    "def build_transform(input_size):\n",
    "    MEAN, STD = IMAGENET_MEAN, IMAGENET_STD\n",
    "    transform = T.Compose([\n",
    "        T.Lambda(lambda img: img.convert('RGB') if img.mode != 'RGB' else img),\n",
    "        T.Resize((input_size, input_size), interpolation=InterpolationMode.BICUBIC),\n",
    "        T.ToTensor(),\n",
    "        T.Normalize(mean=MEAN, std=STD)\n",
    "    ])\n",
    "    return transform\n",
    "\n",
    "def find_closest_aspect_ratio(aspect_ratio, target_ratios, width, height, image_size):\n",
    "    best_ratio_diff = float('inf')\n",
    "    best_ratio = (1, 1)\n",
    "    area = width * height\n",
    "    for ratio in target_ratios:\n",
    "        target_aspect_ratio = ratio[0] / ratio[1]\n",
    "        ratio_diff = abs(aspect_ratio - target_aspect_ratio)\n",
    "        if ratio_diff < best_ratio_diff:\n",
    "            best_ratio_diff = ratio_diff\n",
    "            best_ratio = ratio\n",
    "        elif ratio_diff == best_ratio_diff:\n",
    "            if area > 0.5 * image_size * image_size * ratio[0] * ratio[1]:\n",
    "                best_ratio = ratio\n",
    "    return best_ratio\n",
    "\n",
    "def dynamic_preprocess(image, min_num=1, max_num=6, image_size=448, use_thumbnail=False):\n",
    "    orig_width, orig_height = image.size\n",
    "    aspect_ratio = orig_width / orig_height\n",
    "\n",
    "    target_ratios = set(\n",
    "        (i, j) for n in range(min_num, max_num + 1) for i in range(1, n + 1) for j in range(1, n + 1) if\n",
    "        i * j <= max_num and i * j >= min_num)\n",
    "    target_ratios = sorted(target_ratios, key=lambda x: x[0] * x[1])\n",
    "\n",
    "    target_aspect_ratio = find_closest_aspect_ratio(\n",
    "        aspect_ratio, target_ratios, orig_width, orig_height, image_size)\n",
    "\n",
    "    target_width = image_size * target_aspect_ratio[0]\n",
    "    target_height = image_size * target_aspect_ratio[1]\n",
    "    blocks = target_aspect_ratio[0] * target_aspect_ratio[1]\n",
    "\n",
    "    resized_img = image.resize((target_width, target_height))\n",
    "    processed_images = []\n",
    "    for i in range(blocks):\n",
    "        box = (\n",
    "            (i % (target_width // image_size)) * image_size,\n",
    "            (i // (target_width // image_size)) * image_size,\n",
    "            ((i % (target_width // image_size)) + 1) * image_size,\n",
    "            ((i // (target_width // image_size)) + 1) * image_size\n",
    "        )\n",
    "        split_img = resized_img.crop(box)\n",
    "        processed_images.append(split_img)\n",
    "    assert len(processed_images) == blocks\n",
    "    if use_thumbnail and len(processed_images) != 1:\n",
    "        thumbnail_img = image.resize((image_size, image_size))\n",
    "        processed_images.append(thumbnail_img)\n",
    "    return processed_images\n",
    "\n",
    "def set_seed(seed):\n",
    "    random.seed(seed)\n",
    "    np.random.seed(seed)\n",
    "    torch.manual_seed(seed)\n",
    "    torch.cuda.manual_seed(seed)\n",
    "    torch.cuda.manual_seed_all(seed)\n",
    "    torch.backends.cudnn.deterministic = True\n",
    "    torch.backends.cudnn.benchmark = False\n",
    "\n",
    "class VQADataset(torch.utils.data.Dataset):\n",
    "    def __init__(self, df_path, image_dir, model, tokenizer, answer=True):\n",
    "        self.image_dir = image_dir\n",
    "        self.df = pd.read_json(df_path)\n",
    "        self.answer = answer\n",
    "\n",
    "        self.answer2idx = {}\n",
    "        self.idx2answer = {}\n",
    "\n",
    "        if self.answer:\n",
    "\n",
    "            # Training_dataに含まれるAnswerを全て取得\n",
    "            for answers in self.df[\"answers\"]:\n",
    "                for answer in answers:\n",
    "                    word = answer[\"answer\"]\n",
    "                    word = process_text(word)\n",
    "                    if word not in self.answer2idx:\n",
    "                        self.answer2idx[word] = len(self.answer2idx)\n",
    "            # 追加でClass_mappingに含まれるAnswerを取得\n",
    "            class_mapping = pd.read_csv(\"/workspace/class_mapping.csv\")\n",
    "            self.idx2answer = {}\n",
    "            for word, idx in zip(class_mapping[\"answer\"], class_mapping[\"class_id\"]):\n",
    "                word = process_text(word)\n",
    "                self.answer2idx[word] = idx\n",
    "\n",
    "            self.idx2answer = {v: k for k, v in self.answer2idx.items()}\n",
    "\n",
    "        self.model = model\n",
    "        self.tokenizer = tokenizer\n",
    "\n",
    "    def update_dict(self, dataset):\n",
    "        self.answer2idx = dataset.answer2idx\n",
    "        self.idx2answer = dataset.idx2answer\n",
    "\n",
    "    def extract_text_features(self, text):\n",
    "        inputs = self.tokenizer(text, return_tensors='pt', padding='max_length', truncation=True, max_length=303)\n",
    "        input_ids = inputs.input_ids.to(self.model.device)\n",
    "        with torch.no_grad():\n",
    "            text_features = self.model.language_model.model.tok_embeddings(input_ids)\n",
    "        return text_features\n",
    "\n",
    "    def extract_image_features(self, pixel_values):\n",
    "        with torch.no_grad():\n",
    "            image_features = self.model.vision_model.embeddings(pixel_values)\n",
    "        return image_features\n",
    "\n",
    "    def __getitem__(self, idx):\n",
    "        image = Image.open(f\"{self.image_dir}/{self.df['image'][idx]}\")\n",
    "        input_size = 224\n",
    "        max_num = 1\n",
    "        transform = build_transform(input_size=input_size)\n",
    "        images = dynamic_preprocess(image, image_size=input_size, use_thumbnail=True, max_num=max_num)\n",
    "        pixel_values = [transform(image) for image in images]\n",
    "        pixel_values = torch.stack(pixel_values)\n",
    "        pixel_values = pixel_values.to(torch.bfloat16)\n",
    "        pixel_values = self.extract_image_features(pixel_values)\n",
    "\n",
    "        question = self.df[\"question\"][idx]\n",
    "        # 質問文の前処理\n",
    "        question = process_text(question)\n",
    "        question = self.extract_text_features(question)\n",
    "\n",
    "        if self.answer:\n",
    "            answers = [self.answer2idx[process_text(answer[\"answer\"])] for answer in self.df[\"answers\"][idx]]\n",
    "            mode_answer_idx = mode(answers)\n",
    "            return pixel_values, question, torch.Tensor(answers), int(mode_answer_idx)\n",
    "        else:\n",
    "            return pixel_values, question\n",
    "\n",
    "    def __len__(self):\n",
    "        return len(self.df)\n",
    "\n",
    "def VQA_criterion(batch_pred: torch.Tensor, batch_answers: torch.Tensor):\n",
    "    total_acc = 0.\n",
    "    for pred, answers in zip(batch_pred, batch_answers):\n",
    "        acc = 0.\n",
    "        for i in range(len(answers)):\n",
    "            num_match = 0\n",
    "            for j in range(len(answers)):\n",
    "                if i == j:\n",
    "                    continue\n",
    "                if pred == answers[j]:\n",
    "                    num_match += 1\n",
    "            acc += min(num_match / 3, 1)\n",
    "        total_acc += acc / 10\n",
    "    return total_acc / len(batch_pred)\n",
    "\n",
    "class VQAModel(nn.Module):\n",
    "    def __init__(self, n_answer: int):\n",
    "        super().__init__()\n",
    "\n",
    "        # vision branch\n",
    "        self.vision_conv1 = nn.Conv2d(in_channels=1, out_channels=16, kernel_size=(3, 3), stride=(3, 3), padding=1)\n",
    "        self.vision_bn1 = nn.BatchNorm2d(16)\n",
    "        self.vision_conv2 = nn.Conv2d(in_channels=16, out_channels=32, kernel_size=(3, 3), stride=(3, 3), padding=1)\n",
    "        self.vision_bn2 = nn.BatchNorm2d(32)\n",
    "        self.vision_conv3 = nn.Conv2d(in_channels=32, out_channels=64, kernel_size=(3, 3), stride=(3, 3), padding=1)\n",
    "        self.vision_bn3 = nn.BatchNorm2d(64)\n",
    "        self.vision_pool = nn.MaxPool2d(kernel_size=(3, 3), stride=(3, 3))\n",
    "\n",
    "        # text branch\n",
    "        self.text_conv1 = nn.Conv2d(in_channels=1, out_channels=4, kernel_size=(2, 2), stride=(2, 2), padding=1)\n",
    "        self.text_bn1 = nn.BatchNorm2d(4)\n",
    "        self.text_conv2 = nn.Conv2d(in_channels=4, out_channels=8, kernel_size=(2, 2), stride=(2, 2), padding=1)\n",
    "        self.text_bn2 = nn.BatchNorm2d(8)\n",
    "        self.text_conv3 = nn.Conv2d(in_channels=8, out_channels=16, kernel_size=(2, 2), stride=(2, 2), padding=1)\n",
    "        self.text_bn3 = nn.BatchNorm2d(16)\n",
    "        self.text_conv4 = nn.Conv2d(in_channels=16, out_channels=32, kernel_size=(2, 2), stride=(2, 2), padding=1)\n",
    "        self.text_bn4 = nn.BatchNorm2d(32)\n",
    "        self.text_pool= nn.MaxPool2d(kernel_size=(2, 2), stride=(2, 2))\n",
    "\n",
    "        # combined\n",
    "        self.fc1 = nn.Linear(1600, 512)\n",
    "        self.bn1 = nn.BatchNorm1d(512)\n",
    "        self.fc2 = nn.Linear(512, 256)\n",
    "        self.bn2 = nn.BatchNorm1d(256)\n",
    "        self.fc3 = nn.Linear(256, n_answer)\n",
    "\n",
    "        # 重みの初期化\n",
    "        self._initialize_weights()\n",
    "\n",
    "\n",
    "    def _initialize_weights(self):\n",
    "        for m in self.modules():\n",
    "            if isinstance(m, nn.Conv2d):\n",
    "                nn.init.kaiming_normal_(m.weight, mode='fan_out', nonlinearity='relu')\n",
    "                if m.bias is not None:\n",
    "                    nn.init.constant_(m.bias, 0)\n",
    "            elif isinstance(m, nn.Linear):\n",
    "                nn.init.kaiming_normal_(m.weight, mode='fan_out', nonlinearity='relu')\n",
    "                nn.init.constant_(m.bias, 0)\n",
    "            elif isinstance(m, nn.BatchNorm2d) or isinstance(m, nn.BatchNorm1d):\n",
    "                nn.init.constant_(m.weight, 1)\n",
    "                nn.init.constant_(m.bias, 0)\n",
    "\n",
    "    def forward(self, vision_input, text_input):\n",
    "        # vision branch\n",
    "        #print(\"vision branch\")\n",
    "        v = F.relu(self.vision_bn1(self.vision_bn1(self.vision_conv1(vision_input))))\n",
    "        v = F.relu(self.vision_bn2(self.vision_bn2(self.vision_conv2(v))))\n",
    "        v = self.vision_pool(v)\n",
    "        v = F.relu(self.vision_bn3(self.vision_conv3(v)))\n",
    "        v = self.vision_pool(v)\n",
    "        v = v.view(v.size(0), -1)\n",
    "        #print(v.shape)\n",
    "\n",
    "        #print(\"text branch\")\n",
    "        t = F.relu(self.text_bn1(self.text_conv1(text_input)))\n",
    "        t = self.text_pool(t)\n",
    "        t = F.relu(self.text_bn2(self.text_conv2(t)))\n",
    "        t = self.text_pool(t)\n",
    "        t = F.relu(self.text_bn3(self.text_conv3(t)))\n",
    "        t = self.text_pool(t)\n",
    "        t = F.relu(self.text_bn4(self.text_conv4(t)))\n",
    "        t = self.text_pool(t)\n",
    "        t = t.view(t.size(0), -1)\n",
    "\n",
    "        # combined\n",
    "        combined = torch.cat((v, t), dim=1)\n",
    "        x = F.relu(self.bn1(self.fc1(combined)))\n",
    "        x = F.relu(self.bn2(self.fc2(x)))\n",
    "        x = self.fc3(x)\n",
    "\n",
    "        return x\n",
    "    \n",
    "def train(model, dataloader, optimizer, criterion, device):\n",
    "    model.train()\n",
    "    total_loss = 0\n",
    "    total_acc = 0\n",
    "    simple_acc = 0\n",
    "    start = time.time()\n",
    "    for image, question, answers, mode_answer in tqdm(dataloader, desc=\"Batch\", leave=False):\n",
    "        image, question, answers, mode_answer = \\\n",
    "            image.to(device, dtype=torch.bfloat16), question.to(device, dtype=torch.bfloat16), answers.to(device), mode_answer.to(device)\n",
    "        #print(image.shape, question.shape, answers.shape, mode_answer.shape)\n",
    "        pred = model(image, question)\n",
    "        #print(pred.shape, mode_answer.shape)\n",
    "        loss = criterion(pred, mode_answer.squeeze().to(torch.long))\n",
    "\n",
    "        optimizer.zero_grad()\n",
    "        loss.backward()\n",
    "        optimizer.step()\n",
    "\n",
    "        total_loss += loss.item()\n",
    "        total_acc += VQA_criterion(pred.argmax(1), answers) \n",
    "        simple_acc += (pred.argmax(1) == mode_answer).float().mean().item() \n",
    "\n",
    "    return total_loss / len(dataloader), total_acc / len(dataloader), simple_acc / len(dataloader), time.time() - start\n",
    "\n",
    "def eval(model, dataloader, criterion, device):\n",
    "    model.eval()\n",
    "    total_loss = 0\n",
    "    total_acc = 0\n",
    "    simple_acc = 0\n",
    "    start = time.time()\n",
    "    for image, question, answers, mode_answer in dataloader:\n",
    "        image, question, answers, mode_answer = \\\n",
    "            image.to(device, dtype=torch.bfloat16), question.to(device, dtype=torch.bfloat16), answers.to(device), mode_answer.to(device)\n",
    "        pred = model(image, question)\n",
    "        loss = criterion(pred, mode_answer.squeeze().to(torch.long))\n",
    "\n",
    "        total_loss += loss.item()\n",
    "        total_acc += VQA_criterion(pred.argmax(1), answers)  \n",
    "        simple_acc += (pred.argmax(1) == mode_answer).float().mean().item()  \n",
    "\n",
    "    return total_loss / len(dataloader), total_acc / len(dataloader), simple_acc / len(dataloader), time.time() - start"
   ]
  },
  {
   "cell_type": "code",
   "execution_count": 94,
   "metadata": {},
   "outputs": [
    {
     "name": "stderr",
     "output_type": "stream",
     "text": [
      "Epoch:   0%|          | 0/100 [00:00<?, ?it/s]"
     ]
    },
    {
     "name": "stdout",
     "output_type": "stream",
     "text": [
      "【1/100】\n",
      "train time: 124.10 [s]\n",
      "train loss: 5.5000\n",
      "train acc: 0.3044\n",
      "train simple acc: 0.2398\n"
     ]
    },
    {
     "name": "stderr",
     "output_type": "stream",
     "text": [
      "Epoch:   1%|          | 1/100 [04:14<6:59:31, 254.26s/it]"
     ]
    },
    {
     "name": "stdout",
     "output_type": "stream",
     "text": [
      "【2/100】\n",
      "train time: 124.03 [s]\n",
      "train loss: 2.5051\n",
      "train acc: 0.4448\n",
      "train simple acc: 0.3582\n"
     ]
    },
    {
     "name": "stderr",
     "output_type": "stream",
     "text": [
      "Epoch:   2%|▏         | 2/100 [08:27<6:54:24, 253.72s/it]"
     ]
    },
    {
     "name": "stdout",
     "output_type": "stream",
     "text": [
      "【3/100】\n",
      "train time: 123.30 [s]\n",
      "train loss: 2.0915\n",
      "train acc: 0.5036\n",
      "train simple acc: 0.4201\n"
     ]
    },
    {
     "name": "stderr",
     "output_type": "stream",
     "text": [
      "Epoch:   3%|▎         | 3/100 [12:38<6:47:56, 252.33s/it]"
     ]
    },
    {
     "name": "stdout",
     "output_type": "stream",
     "text": [
      "【4/100】\n",
      "train time: 122.24 [s]\n",
      "train loss: 1.7551\n",
      "train acc: 0.5907\n",
      "train simple acc: 0.5322\n"
     ]
    },
    {
     "name": "stderr",
     "output_type": "stream",
     "text": [
      "Epoch:   4%|▍         | 4/100 [16:49<6:43:02, 251.90s/it]"
     ]
    },
    {
     "name": "stdout",
     "output_type": "stream",
     "text": [
      "【5/100】\n",
      "train time: 123.80 [s]\n",
      "train loss: 1.3991\n",
      "train acc: 0.6641\n",
      "train simple acc: 0.6275\n"
     ]
    },
    {
     "name": "stderr",
     "output_type": "stream",
     "text": [
      "Epoch:   5%|▌         | 5/100 [21:02<6:39:15, 252.16s/it]"
     ]
    },
    {
     "name": "stdout",
     "output_type": "stream",
     "text": [
      "【6/100】\n",
      "train time: 124.28 [s]\n",
      "train loss: 1.0712\n",
      "train acc: 0.7629\n",
      "train simple acc: 0.7422\n"
     ]
    },
    {
     "name": "stderr",
     "output_type": "stream",
     "text": [
      "Epoch:   6%|▌         | 6/100 [25:16<6:36:09, 252.87s/it]"
     ]
    },
    {
     "name": "stdout",
     "output_type": "stream",
     "text": [
      "【7/100】\n",
      "train time: 123.16 [s]\n",
      "train loss: 0.7754\n",
      "train acc: 0.8441\n",
      "train simple acc: 0.8441\n"
     ]
    },
    {
     "name": "stderr",
     "output_type": "stream",
     "text": [
      "Epoch:   7%|▋         | 7/100 [29:28<6:31:37, 252.67s/it]"
     ]
    },
    {
     "name": "stdout",
     "output_type": "stream",
     "text": [
      "【8/100】\n",
      "train time: 123.81 [s]\n",
      "train loss: 0.5306\n",
      "train acc: 0.9139\n",
      "train simple acc: 0.9301\n"
     ]
    },
    {
     "name": "stderr",
     "output_type": "stream",
     "text": [
      "Epoch:   8%|▊         | 8/100 [33:41<6:27:40, 252.83s/it]"
     ]
    },
    {
     "name": "stdout",
     "output_type": "stream",
     "text": [
      "【9/100】\n",
      "train time: 123.02 [s]\n",
      "train loss: 0.3344\n",
      "train acc: 0.9507\n",
      "train simple acc: 0.9722\n"
     ]
    },
    {
     "name": "stderr",
     "output_type": "stream",
     "text": [
      "Epoch:   9%|▉         | 9/100 [37:53<6:22:50, 252.42s/it]"
     ]
    },
    {
     "name": "stdout",
     "output_type": "stream",
     "text": [
      "【10/100】\n",
      "train time: 124.56 [s]\n",
      "train loss: 0.2271\n",
      "train acc: 0.9566\n",
      "train simple acc: 0.9802\n"
     ]
    },
    {
     "name": "stderr",
     "output_type": "stream",
     "text": [
      "Epoch:  10%|█         | 10/100 [42:07<6:19:39, 253.11s/it]"
     ]
    },
    {
     "name": "stdout",
     "output_type": "stream",
     "text": [
      "【11/100】\n",
      "train time: 124.08 [s]\n",
      "train loss: 0.1584\n",
      "train acc: 0.9643\n",
      "train simple acc: 0.9899\n"
     ]
    },
    {
     "name": "stderr",
     "output_type": "stream",
     "text": [
      "Epoch:  11%|█         | 11/100 [46:21<6:15:41, 253.28s/it]"
     ]
    },
    {
     "name": "stdout",
     "output_type": "stream",
     "text": [
      "【12/100】\n",
      "train time: 123.81 [s]\n",
      "train loss: 0.1245\n",
      "train acc: 0.9661\n",
      "train simple acc: 0.9931\n"
     ]
    },
    {
     "name": "stderr",
     "output_type": "stream",
     "text": [
      "Epoch:  12%|█▏        | 12/100 [50:35<6:11:35, 253.36s/it]"
     ]
    },
    {
     "name": "stdout",
     "output_type": "stream",
     "text": [
      "【13/100】\n",
      "train time: 122.96 [s]\n",
      "train loss: 0.0945\n",
      "train acc: 0.9674\n",
      "train simple acc: 0.9952\n"
     ]
    },
    {
     "name": "stderr",
     "output_type": "stream",
     "text": [
      "Epoch:  13%|█▎        | 13/100 [54:47<6:07:01, 253.12s/it]"
     ]
    },
    {
     "name": "stdout",
     "output_type": "stream",
     "text": [
      "【14/100】\n",
      "train time: 124.16 [s]\n",
      "train loss: 0.0818\n",
      "train acc: 0.9680\n",
      "train simple acc: 0.9959\n"
     ]
    },
    {
     "name": "stderr",
     "output_type": "stream",
     "text": [
      "Epoch:  14%|█▍        | 14/100 [59:01<6:02:57, 253.23s/it]"
     ]
    },
    {
     "name": "stdout",
     "output_type": "stream",
     "text": [
      "【15/100】\n",
      "train time: 124.04 [s]\n",
      "train loss: 0.0776\n",
      "train acc: 0.9676\n",
      "train simple acc: 0.9947\n"
     ]
    },
    {
     "name": "stderr",
     "output_type": "stream",
     "text": [
      "Epoch:  15%|█▌        | 15/100 [1:03:14<5:58:52, 253.33s/it]"
     ]
    },
    {
     "name": "stdout",
     "output_type": "stream",
     "text": [
      "【16/100】\n",
      "train time: 124.21 [s]\n",
      "train loss: 0.0652\n",
      "train acc: 0.9684\n",
      "train simple acc: 0.9968\n"
     ]
    },
    {
     "name": "stderr",
     "output_type": "stream",
     "text": [
      "Epoch:  16%|█▌        | 16/100 [1:07:28<5:54:58, 253.55s/it]"
     ]
    },
    {
     "name": "stdout",
     "output_type": "stream",
     "text": [
      "【17/100】\n",
      "train time: 124.12 [s]\n",
      "train loss: 0.0583\n",
      "train acc: 0.9691\n",
      "train simple acc: 0.9977\n"
     ]
    },
    {
     "name": "stderr",
     "output_type": "stream",
     "text": [
      "Epoch:  17%|█▋        | 17/100 [1:11:43<5:51:01, 253.75s/it]"
     ]
    },
    {
     "name": "stdout",
     "output_type": "stream",
     "text": [
      "【18/100】\n",
      "train time: 123.75 [s]\n",
      "train loss: 0.0592\n",
      "train acc: 0.9693\n",
      "train simple acc: 0.9970\n"
     ]
    },
    {
     "name": "stderr",
     "output_type": "stream",
     "text": [
      "Epoch:  18%|█▊        | 18/100 [1:15:56<5:46:38, 253.64s/it]"
     ]
    },
    {
     "name": "stdout",
     "output_type": "stream",
     "text": [
      "【19/100】\n",
      "train time: 123.31 [s]\n",
      "train loss: 0.0503\n",
      "train acc: 0.9694\n",
      "train simple acc: 0.9986\n"
     ]
    },
    {
     "name": "stderr",
     "output_type": "stream",
     "text": [
      "Epoch:  19%|█▉        | 19/100 [1:20:09<5:42:08, 253.43s/it]"
     ]
    },
    {
     "name": "stdout",
     "output_type": "stream",
     "text": [
      "【20/100】\n",
      "train time: 124.43 [s]\n",
      "train loss: 0.0478\n",
      "train acc: 0.9687\n",
      "train simple acc: 0.9970\n"
     ]
    },
    {
     "name": "stderr",
     "output_type": "stream",
     "text": [
      "Epoch:  20%|██        | 20/100 [1:24:23<5:38:06, 253.58s/it]"
     ]
    },
    {
     "name": "stdout",
     "output_type": "stream",
     "text": [
      "【21/100】\n",
      "train time: 122.62 [s]\n",
      "train loss: 0.0464\n",
      "train acc: 0.9695\n",
      "train simple acc: 0.9977\n"
     ]
    },
    {
     "name": "stderr",
     "output_type": "stream",
     "text": [
      "Epoch:  21%|██        | 21/100 [1:28:35<5:33:18, 253.15s/it]"
     ]
    },
    {
     "name": "stdout",
     "output_type": "stream",
     "text": [
      "【22/100】\n",
      "train time: 122.54 [s]\n",
      "train loss: 0.0464\n",
      "train acc: 0.9688\n",
      "train simple acc: 0.9963\n"
     ]
    },
    {
     "name": "stderr",
     "output_type": "stream",
     "text": [
      "Epoch:  22%|██▏       | 22/100 [1:32:47<5:28:30, 252.70s/it]"
     ]
    },
    {
     "name": "stdout",
     "output_type": "stream",
     "text": [
      "【23/100】\n",
      "train time: 124.04 [s]\n",
      "train loss: 0.0709\n",
      "train acc: 0.9668\n",
      "train simple acc: 0.9954\n"
     ]
    },
    {
     "name": "stderr",
     "output_type": "stream",
     "text": [
      "Epoch:  23%|██▎       | 23/100 [1:37:01<5:24:45, 253.06s/it]"
     ]
    },
    {
     "name": "stdout",
     "output_type": "stream",
     "text": [
      "【24/100】\n",
      "train time: 124.11 [s]\n",
      "train loss: 0.0547\n",
      "train acc: 0.9677\n",
      "train simple acc: 0.9966\n"
     ]
    },
    {
     "name": "stderr",
     "output_type": "stream",
     "text": [
      "Epoch:  24%|██▍       | 24/100 [1:41:14<5:20:49, 253.28s/it]"
     ]
    },
    {
     "name": "stdout",
     "output_type": "stream",
     "text": [
      "【25/100】\n",
      "train time: 124.00 [s]\n",
      "train loss: 0.0424\n",
      "train acc: 0.9686\n",
      "train simple acc: 0.9970\n"
     ]
    },
    {
     "name": "stderr",
     "output_type": "stream",
     "text": [
      "Epoch:  25%|██▌       | 25/100 [1:45:28<5:16:40, 253.34s/it]"
     ]
    },
    {
     "name": "stdout",
     "output_type": "stream",
     "text": [
      "【26/100】\n",
      "train time: 124.21 [s]\n",
      "train loss: 0.0400\n",
      "train acc: 0.9682\n",
      "train simple acc: 0.9970\n"
     ]
    },
    {
     "name": "stderr",
     "output_type": "stream",
     "text": [
      "Epoch:  26%|██▌       | 26/100 [1:49:42<5:12:40, 253.52s/it]"
     ]
    },
    {
     "name": "stdout",
     "output_type": "stream",
     "text": [
      "【27/100】\n",
      "train time: 123.88 [s]\n",
      "train loss: 0.0502\n",
      "train acc: 0.9674\n",
      "train simple acc: 0.9943\n"
     ]
    },
    {
     "name": "stderr",
     "output_type": "stream",
     "text": [
      "Epoch:  27%|██▋       | 27/100 [1:53:55<5:08:26, 253.51s/it]"
     ]
    },
    {
     "name": "stdout",
     "output_type": "stream",
     "text": [
      "【28/100】\n",
      "train time: 123.86 [s]\n",
      "train loss: 0.0492\n",
      "train acc: 0.9672\n",
      "train simple acc: 0.9956\n"
     ]
    },
    {
     "name": "stderr",
     "output_type": "stream",
     "text": [
      "Epoch:  28%|██▊       | 28/100 [1:58:08<5:04:07, 253.44s/it]"
     ]
    },
    {
     "name": "stdout",
     "output_type": "stream",
     "text": [
      "【29/100】\n",
      "train time: 124.50 [s]\n",
      "train loss: 0.0352\n",
      "train acc: 0.9690\n",
      "train simple acc: 0.9979\n"
     ]
    },
    {
     "name": "stderr",
     "output_type": "stream",
     "text": [
      "Epoch:  29%|██▉       | 29/100 [2:02:23<5:00:07, 253.63s/it]"
     ]
    },
    {
     "name": "stdout",
     "output_type": "stream",
     "text": [
      "【30/100】\n",
      "train time: 122.17 [s]\n",
      "train loss: 0.0358\n",
      "train acc: 0.9678\n",
      "train simple acc: 0.9977\n"
     ]
    },
    {
     "name": "stderr",
     "output_type": "stream",
     "text": [
      "Epoch:  30%|███       | 30/100 [2:06:34<4:55:13, 253.05s/it]"
     ]
    },
    {
     "name": "stdout",
     "output_type": "stream",
     "text": [
      "【31/100】\n",
      "train time: 122.67 [s]\n",
      "train loss: 0.0323\n",
      "train acc: 0.9695\n",
      "train simple acc: 0.9977\n"
     ]
    },
    {
     "name": "stderr",
     "output_type": "stream",
     "text": [
      "Epoch:  31%|███       | 31/100 [2:10:46<4:50:42, 252.79s/it]"
     ]
    },
    {
     "name": "stdout",
     "output_type": "stream",
     "text": [
      "【32/100】\n",
      "train time: 123.97 [s]\n",
      "train loss: 0.0312\n",
      "train acc: 0.9696\n",
      "train simple acc: 0.9972\n"
     ]
    },
    {
     "name": "stderr",
     "output_type": "stream",
     "text": [
      "Epoch:  32%|███▏      | 32/100 [2:15:00<4:46:46, 253.04s/it]"
     ]
    },
    {
     "name": "stdout",
     "output_type": "stream",
     "text": [
      "【33/100】\n",
      "train time: 123.69 [s]\n",
      "train loss: 0.0286\n",
      "train acc: 0.9702\n",
      "train simple acc: 0.9984\n"
     ]
    },
    {
     "name": "stderr",
     "output_type": "stream",
     "text": [
      "Epoch:  33%|███▎      | 33/100 [2:19:13<4:42:39, 253.13s/it]"
     ]
    },
    {
     "name": "stdout",
     "output_type": "stream",
     "text": [
      "【34/100】\n",
      "train time: 124.13 [s]\n",
      "train loss: 0.0275\n",
      "train acc: 0.9687\n",
      "train simple acc: 0.9977\n"
     ]
    },
    {
     "name": "stderr",
     "output_type": "stream",
     "text": [
      "Epoch:  34%|███▍      | 34/100 [2:23:27<4:38:29, 253.18s/it]"
     ]
    },
    {
     "name": "stdout",
     "output_type": "stream",
     "text": [
      "【35/100】\n",
      "train time: 122.07 [s]\n",
      "train loss: 0.0274\n",
      "train acc: 0.9693\n",
      "train simple acc: 0.9984\n"
     ]
    },
    {
     "name": "stderr",
     "output_type": "stream",
     "text": [
      "Epoch:  35%|███▌      | 35/100 [2:27:36<4:33:05, 252.09s/it]"
     ]
    },
    {
     "name": "stdout",
     "output_type": "stream",
     "text": [
      "【36/100】\n",
      "train time: 124.04 [s]\n",
      "train loss: 0.0263\n",
      "train acc: 0.9698\n",
      "train simple acc: 0.9982\n"
     ]
    },
    {
     "name": "stderr",
     "output_type": "stream",
     "text": [
      "Epoch:  36%|███▌      | 36/100 [2:31:50<4:29:32, 252.69s/it]"
     ]
    },
    {
     "name": "stdout",
     "output_type": "stream",
     "text": [
      "【37/100】\n",
      "train time: 123.00 [s]\n",
      "train loss: 0.0253\n",
      "train acc: 0.9702\n",
      "train simple acc: 0.9986\n"
     ]
    },
    {
     "name": "stderr",
     "output_type": "stream",
     "text": [
      "Epoch:  37%|███▋      | 37/100 [2:36:03<4:25:12, 252.58s/it]"
     ]
    },
    {
     "name": "stdout",
     "output_type": "stream",
     "text": [
      "【38/100】\n",
      "train time: 123.35 [s]\n",
      "train loss: 0.0258\n",
      "train acc: 0.9693\n",
      "train simple acc: 0.9982\n"
     ]
    },
    {
     "name": "stderr",
     "output_type": "stream",
     "text": [
      "Epoch:  38%|███▊      | 38/100 [2:40:16<4:21:04, 252.66s/it]"
     ]
    },
    {
     "name": "stdout",
     "output_type": "stream",
     "text": [
      "【39/100】\n",
      "train time: 123.60 [s]\n",
      "train loss: 0.0260\n",
      "train acc: 0.9692\n",
      "train simple acc: 0.9982\n"
     ]
    },
    {
     "name": "stderr",
     "output_type": "stream",
     "text": [
      "Epoch:  39%|███▉      | 39/100 [2:44:28<4:16:45, 252.55s/it]"
     ]
    },
    {
     "name": "stdout",
     "output_type": "stream",
     "text": [
      "【40/100】\n",
      "train time: 124.51 [s]\n",
      "train loss: 0.0243\n",
      "train acc: 0.9699\n",
      "train simple acc: 0.9986\n"
     ]
    },
    {
     "name": "stderr",
     "output_type": "stream",
     "text": [
      "Epoch:  40%|████      | 40/100 [2:48:41<4:12:37, 252.63s/it]"
     ]
    },
    {
     "name": "stdout",
     "output_type": "stream",
     "text": [
      "【41/100】\n",
      "train time: 124.04 [s]\n",
      "train loss: 0.0236\n",
      "train acc: 0.9688\n",
      "train simple acc: 0.9982\n"
     ]
    },
    {
     "name": "stderr",
     "output_type": "stream",
     "text": [
      "Epoch:  41%|████      | 41/100 [2:52:55<4:08:48, 253.02s/it]"
     ]
    },
    {
     "name": "stdout",
     "output_type": "stream",
     "text": [
      "【42/100】\n",
      "train time: 124.44 [s]\n",
      "train loss: 0.0244\n",
      "train acc: 0.9694\n",
      "train simple acc: 0.9984\n"
     ]
    },
    {
     "name": "stderr",
     "output_type": "stream",
     "text": [
      "Epoch:  42%|████▏     | 42/100 [2:57:09<4:05:02, 253.50s/it]"
     ]
    },
    {
     "name": "stdout",
     "output_type": "stream",
     "text": [
      "【43/100】\n",
      "train time: 124.30 [s]\n",
      "train loss: 0.0235\n",
      "train acc: 0.9697\n",
      "train simple acc: 0.9986\n"
     ]
    },
    {
     "name": "stderr",
     "output_type": "stream",
     "text": [
      "Epoch:  43%|████▎     | 43/100 [3:01:23<4:00:54, 253.58s/it]"
     ]
    },
    {
     "name": "stdout",
     "output_type": "stream",
     "text": [
      "【44/100】\n",
      "train time: 124.17 [s]\n",
      "train loss: 0.0249\n",
      "train acc: 0.9684\n",
      "train simple acc: 0.9982\n"
     ]
    },
    {
     "name": "stderr",
     "output_type": "stream",
     "text": [
      "Epoch:  44%|████▍     | 44/100 [3:05:37<3:56:48, 253.73s/it]"
     ]
    },
    {
     "name": "stdout",
     "output_type": "stream",
     "text": [
      "【45/100】\n",
      "train time: 124.25 [s]\n",
      "train loss: 0.0230\n",
      "train acc: 0.9693\n",
      "train simple acc: 0.9979\n"
     ]
    },
    {
     "name": "stderr",
     "output_type": "stream",
     "text": [
      "Epoch:  45%|████▌     | 45/100 [3:09:51<3:52:45, 253.93s/it]"
     ]
    },
    {
     "name": "stdout",
     "output_type": "stream",
     "text": [
      "【46/100】\n",
      "train time: 124.12 [s]\n",
      "train loss: 0.0227\n",
      "train acc: 0.9690\n",
      "train simple acc: 0.9984\n"
     ]
    },
    {
     "name": "stderr",
     "output_type": "stream",
     "text": [
      "Epoch:  46%|████▌     | 46/100 [3:14:05<3:48:31, 253.92s/it]"
     ]
    },
    {
     "name": "stdout",
     "output_type": "stream",
     "text": [
      "【47/100】\n",
      "train time: 123.52 [s]\n",
      "train loss: 0.0234\n",
      "train acc: 0.9696\n",
      "train simple acc: 0.9989\n"
     ]
    },
    {
     "name": "stderr",
     "output_type": "stream",
     "text": [
      "Epoch:  47%|████▋     | 47/100 [3:18:18<3:43:58, 253.55s/it]"
     ]
    },
    {
     "name": "stdout",
     "output_type": "stream",
     "text": [
      "【48/100】\n",
      "train time: 123.98 [s]\n",
      "train loss: 0.0262\n",
      "train acc: 0.9689\n",
      "train simple acc: 0.9977\n"
     ]
    },
    {
     "name": "stderr",
     "output_type": "stream",
     "text": [
      "Epoch:  48%|████▊     | 48/100 [3:22:32<3:39:46, 253.58s/it]"
     ]
    },
    {
     "name": "stdout",
     "output_type": "stream",
     "text": [
      "【49/100】\n",
      "train time: 123.89 [s]\n",
      "train loss: 0.0294\n",
      "train acc: 0.9693\n",
      "train simple acc: 0.9975\n"
     ]
    },
    {
     "name": "stderr",
     "output_type": "stream",
     "text": [
      "Epoch:  49%|████▉     | 49/100 [3:26:45<3:35:34, 253.61s/it]"
     ]
    },
    {
     "name": "stdout",
     "output_type": "stream",
     "text": [
      "【50/100】\n",
      "train time: 124.04 [s]\n",
      "train loss: 0.0239\n",
      "train acc: 0.9687\n",
      "train simple acc: 0.9982\n"
     ]
    },
    {
     "name": "stderr",
     "output_type": "stream",
     "text": [
      "Epoch:  50%|█████     | 50/100 [3:30:59<3:31:21, 253.64s/it]"
     ]
    },
    {
     "name": "stdout",
     "output_type": "stream",
     "text": [
      "【51/100】\n",
      "train time: 124.31 [s]\n",
      "train loss: 0.0222\n",
      "train acc: 0.9689\n",
      "train simple acc: 0.9986\n"
     ]
    },
    {
     "name": "stderr",
     "output_type": "stream",
     "text": [
      "Epoch:  51%|█████     | 51/100 [3:35:13<3:27:18, 253.84s/it]"
     ]
    },
    {
     "name": "stdout",
     "output_type": "stream",
     "text": [
      "【52/100】\n",
      "train time: 123.79 [s]\n",
      "train loss: 0.0220\n",
      "train acc: 0.9692\n",
      "train simple acc: 0.9979\n"
     ]
    },
    {
     "name": "stderr",
     "output_type": "stream",
     "text": [
      "Epoch:  52%|█████▏    | 52/100 [3:39:27<3:22:57, 253.70s/it]"
     ]
    },
    {
     "name": "stdout",
     "output_type": "stream",
     "text": [
      "【53/100】\n",
      "train time: 124.20 [s]\n",
      "train loss: 0.0215\n",
      "train acc: 0.9694\n",
      "train simple acc: 0.9984\n"
     ]
    },
    {
     "name": "stderr",
     "output_type": "stream",
     "text": [
      "Epoch:  53%|█████▎    | 53/100 [3:43:41<3:18:45, 253.74s/it]"
     ]
    },
    {
     "name": "stdout",
     "output_type": "stream",
     "text": [
      "【54/100】\n",
      "train time: 124.08 [s]\n",
      "train loss: 0.0204\n",
      "train acc: 0.9692\n",
      "train simple acc: 0.9984\n"
     ]
    },
    {
     "name": "stderr",
     "output_type": "stream",
     "text": [
      "Epoch:  54%|█████▍    | 54/100 [3:47:53<3:14:07, 253.22s/it]"
     ]
    },
    {
     "name": "stdout",
     "output_type": "stream",
     "text": [
      "【55/100】\n",
      "train time: 122.05 [s]\n",
      "train loss: 0.0197\n",
      "train acc: 0.9695\n",
      "train simple acc: 0.9989\n"
     ]
    },
    {
     "name": "stderr",
     "output_type": "stream",
     "text": [
      "Epoch:  55%|█████▌    | 55/100 [3:52:04<3:09:26, 252.58s/it]"
     ]
    },
    {
     "name": "stdout",
     "output_type": "stream",
     "text": [
      "【56/100】\n",
      "train time: 123.20 [s]\n",
      "train loss: 0.0192\n",
      "train acc: 0.9696\n",
      "train simple acc: 0.9986\n"
     ]
    },
    {
     "name": "stderr",
     "output_type": "stream",
     "text": [
      "Epoch:  56%|█████▌    | 56/100 [3:56:15<3:04:53, 252.12s/it]"
     ]
    },
    {
     "name": "stdout",
     "output_type": "stream",
     "text": [
      "【57/100】\n",
      "train time: 122.46 [s]\n",
      "train loss: 0.0190\n",
      "train acc: 0.9692\n",
      "train simple acc: 0.9986\n"
     ]
    },
    {
     "name": "stderr",
     "output_type": "stream",
     "text": [
      "Epoch:  57%|█████▋    | 57/100 [4:00:26<3:00:36, 252.01s/it]"
     ]
    },
    {
     "name": "stdout",
     "output_type": "stream",
     "text": [
      "【58/100】\n",
      "train time: 123.84 [s]\n",
      "train loss: 0.0189\n",
      "train acc: 0.9699\n",
      "train simple acc: 0.9989\n"
     ]
    },
    {
     "name": "stderr",
     "output_type": "stream",
     "text": [
      "Epoch:  58%|█████▊    | 58/100 [4:04:40<2:56:41, 252.42s/it]"
     ]
    },
    {
     "name": "stdout",
     "output_type": "stream",
     "text": [
      "【59/100】\n",
      "train time: 123.97 [s]\n",
      "train loss: 0.0209\n",
      "train acc: 0.9699\n",
      "train simple acc: 0.9982\n"
     ]
    },
    {
     "name": "stderr",
     "output_type": "stream",
     "text": [
      "Epoch:  59%|█████▉    | 59/100 [4:08:53<2:52:41, 252.71s/it]"
     ]
    },
    {
     "name": "stdout",
     "output_type": "stream",
     "text": [
      "【60/100】\n",
      "train time: 123.80 [s]\n",
      "train loss: 0.0220\n",
      "train acc: 0.9687\n",
      "train simple acc: 0.9979\n"
     ]
    },
    {
     "name": "stderr",
     "output_type": "stream",
     "text": [
      "Epoch:  60%|██████    | 60/100 [4:13:06<2:48:33, 252.83s/it]"
     ]
    },
    {
     "name": "stdout",
     "output_type": "stream",
     "text": [
      "【61/100】\n",
      "train time: 123.85 [s]\n",
      "train loss: 0.0260\n",
      "train acc: 0.9684\n",
      "train simple acc: 0.9972\n"
     ]
    },
    {
     "name": "stderr",
     "output_type": "stream",
     "text": [
      "Epoch:  61%|██████    | 61/100 [4:17:20<2:44:30, 253.09s/it]"
     ]
    },
    {
     "name": "stdout",
     "output_type": "stream",
     "text": [
      "【62/100】\n",
      "train time: 124.24 [s]\n",
      "train loss: 0.0220\n",
      "train acc: 0.9695\n",
      "train simple acc: 0.9986\n"
     ]
    },
    {
     "name": "stderr",
     "output_type": "stream",
     "text": [
      "Epoch:  62%|██████▏   | 62/100 [4:21:35<2:40:34, 253.53s/it]"
     ]
    },
    {
     "name": "stdout",
     "output_type": "stream",
     "text": [
      "【63/100】\n",
      "train time: 124.05 [s]\n",
      "train loss: 0.0202\n",
      "train acc: 0.9693\n",
      "train simple acc: 0.9986\n"
     ]
    },
    {
     "name": "stderr",
     "output_type": "stream",
     "text": [
      "Epoch:  63%|██████▎   | 63/100 [4:25:48<2:36:22, 253.57s/it]"
     ]
    },
    {
     "name": "stdout",
     "output_type": "stream",
     "text": [
      "【64/100】\n",
      "train time: 123.80 [s]\n",
      "train loss: 0.0198\n",
      "train acc: 0.9690\n",
      "train simple acc: 0.9989\n"
     ]
    },
    {
     "name": "stderr",
     "output_type": "stream",
     "text": [
      "Epoch:  64%|██████▍   | 64/100 [4:30:02<2:32:07, 253.54s/it]"
     ]
    },
    {
     "name": "stdout",
     "output_type": "stream",
     "text": [
      "【65/100】\n",
      "train time: 124.36 [s]\n",
      "train loss: 0.0242\n",
      "train acc: 0.9682\n",
      "train simple acc: 0.9977\n"
     ]
    },
    {
     "name": "stderr",
     "output_type": "stream",
     "text": [
      "Epoch:  65%|██████▌   | 65/100 [4:34:16<2:28:00, 253.74s/it]"
     ]
    },
    {
     "name": "stdout",
     "output_type": "stream",
     "text": [
      "【66/100】\n",
      "train time: 124.02 [s]\n",
      "train loss: 0.0195\n",
      "train acc: 0.9701\n",
      "train simple acc: 0.9984\n"
     ]
    },
    {
     "name": "stderr",
     "output_type": "stream",
     "text": [
      "Epoch:  66%|██████▌   | 66/100 [4:38:30<2:23:49, 253.82s/it]"
     ]
    },
    {
     "name": "stdout",
     "output_type": "stream",
     "text": [
      "【67/100】\n",
      "train time: 123.84 [s]\n",
      "train loss: 0.0179\n",
      "train acc: 0.9697\n",
      "train simple acc: 0.9986\n"
     ]
    },
    {
     "name": "stderr",
     "output_type": "stream",
     "text": [
      "Epoch:  67%|██████▋   | 67/100 [4:42:43<2:19:28, 253.60s/it]"
     ]
    },
    {
     "name": "stdout",
     "output_type": "stream",
     "text": [
      "【68/100】\n",
      "train time: 123.53 [s]\n",
      "train loss: 0.0169\n",
      "train acc: 0.9695\n",
      "train simple acc: 0.9986\n"
     ]
    },
    {
     "name": "stderr",
     "output_type": "stream",
     "text": [
      "Epoch:  68%|██████▊   | 68/100 [4:47:44<2:15:24, 253.88s/it]\n"
     ]
    },
    {
     "ename": "KeyboardInterrupt",
     "evalue": "",
     "output_type": "error",
     "traceback": [
      "\u001b[0;31m---------------------------------------------------------------------------\u001b[0m",
      "\u001b[0;31mKeyboardInterrupt\u001b[0m                         Traceback (most recent call last)",
      "Cell \u001b[0;32mIn[94], line 20\u001b[0m\n\u001b[1;32m     17\u001b[0m optimizer \u001b[38;5;241m=\u001b[39m torch\u001b[38;5;241m.\u001b[39moptim\u001b[38;5;241m.\u001b[39mAdam(model\u001b[38;5;241m.\u001b[39mparameters(), lr\u001b[38;5;241m=\u001b[39m\u001b[38;5;241m0.001\u001b[39m, weight_decay\u001b[38;5;241m=\u001b[39m\u001b[38;5;241m1e-5\u001b[39m)\n\u001b[1;32m     19\u001b[0m \u001b[38;5;28;01mfor\u001b[39;00m epoch \u001b[38;5;129;01min\u001b[39;00m tqdm(\u001b[38;5;28mrange\u001b[39m(num_epoch), desc\u001b[38;5;241m=\u001b[39m\u001b[38;5;124m\"\u001b[39m\u001b[38;5;124mEpoch\u001b[39m\u001b[38;5;124m\"\u001b[39m):\n\u001b[0;32m---> 20\u001b[0m     train_loss, train_acc, train_simple_acc, train_time \u001b[38;5;241m=\u001b[39m \u001b[43mtrain\u001b[49m\u001b[43m(\u001b[49m\u001b[43mmodel\u001b[49m\u001b[43m,\u001b[49m\u001b[43m \u001b[49m\u001b[43mtrain_loader\u001b[49m\u001b[43m,\u001b[49m\u001b[43m \u001b[49m\u001b[43moptimizer\u001b[49m\u001b[43m,\u001b[49m\u001b[43m \u001b[49m\u001b[43mcriterion\u001b[49m\u001b[43m,\u001b[49m\u001b[43m \u001b[49m\u001b[43mdevice\u001b[49m\u001b[43m)\u001b[49m\n\u001b[1;32m     21\u001b[0m     \u001b[38;5;28mprint\u001b[39m(\u001b[38;5;124mf\u001b[39m\u001b[38;5;124m\"\u001b[39m\u001b[38;5;124m【\u001b[39m\u001b[38;5;132;01m{\u001b[39;00mepoch\u001b[38;5;250m \u001b[39m\u001b[38;5;241m+\u001b[39m\u001b[38;5;250m \u001b[39m\u001b[38;5;241m1\u001b[39m\u001b[38;5;132;01m}\u001b[39;00m\u001b[38;5;124m/\u001b[39m\u001b[38;5;132;01m{\u001b[39;00mnum_epoch\u001b[38;5;132;01m}\u001b[39;00m\u001b[38;5;124m】\u001b[39m\u001b[38;5;130;01m\\n\u001b[39;00m\u001b[38;5;124m\"\u001b[39m\n\u001b[1;32m     22\u001b[0m             \u001b[38;5;124mf\u001b[39m\u001b[38;5;124m\"\u001b[39m\u001b[38;5;124mtrain time: \u001b[39m\u001b[38;5;132;01m{\u001b[39;00mtrain_time\u001b[38;5;132;01m:\u001b[39;00m\u001b[38;5;124m.2f\u001b[39m\u001b[38;5;132;01m}\u001b[39;00m\u001b[38;5;124m [s]\u001b[39m\u001b[38;5;130;01m\\n\u001b[39;00m\u001b[38;5;124m\"\u001b[39m\n\u001b[1;32m     23\u001b[0m             \u001b[38;5;124mf\u001b[39m\u001b[38;5;124m\"\u001b[39m\u001b[38;5;124mtrain loss: \u001b[39m\u001b[38;5;132;01m{\u001b[39;00mtrain_loss\u001b[38;5;132;01m:\u001b[39;00m\u001b[38;5;124m.4f\u001b[39m\u001b[38;5;132;01m}\u001b[39;00m\u001b[38;5;130;01m\\n\u001b[39;00m\u001b[38;5;124m\"\u001b[39m\n\u001b[1;32m     24\u001b[0m             \u001b[38;5;124mf\u001b[39m\u001b[38;5;124m\"\u001b[39m\u001b[38;5;124mtrain acc: \u001b[39m\u001b[38;5;132;01m{\u001b[39;00mtrain_acc\u001b[38;5;132;01m:\u001b[39;00m\u001b[38;5;124m.4f\u001b[39m\u001b[38;5;132;01m}\u001b[39;00m\u001b[38;5;130;01m\\n\u001b[39;00m\u001b[38;5;124m\"\u001b[39m\n\u001b[1;32m     25\u001b[0m             \u001b[38;5;124mf\u001b[39m\u001b[38;5;124m\"\u001b[39m\u001b[38;5;124mtrain simple acc: \u001b[39m\u001b[38;5;132;01m{\u001b[39;00mtrain_simple_acc\u001b[38;5;132;01m:\u001b[39;00m\u001b[38;5;124m.4f\u001b[39m\u001b[38;5;132;01m}\u001b[39;00m\u001b[38;5;124m\"\u001b[39m)\n\u001b[1;32m     27\u001b[0m     \u001b[38;5;28;01mif\u001b[39;00m \u001b[38;5;28;01mTrue\u001b[39;00m:\u001b[38;5;66;03m#epoch != 0 and epoch%5 == 0:\u001b[39;00m\n",
      "Cell \u001b[0;32mIn[93], line 286\u001b[0m, in \u001b[0;36mtrain\u001b[0;34m(model, dataloader, optimizer, criterion, device)\u001b[0m\n\u001b[1;32m    284\u001b[0m simple_acc \u001b[38;5;241m=\u001b[39m \u001b[38;5;241m0\u001b[39m\n\u001b[1;32m    285\u001b[0m start \u001b[38;5;241m=\u001b[39m time\u001b[38;5;241m.\u001b[39mtime()\n\u001b[0;32m--> 286\u001b[0m \u001b[38;5;28;01mfor\u001b[39;00m image, question, answers, mode_answer \u001b[38;5;129;01min\u001b[39;00m tqdm(dataloader, desc\u001b[38;5;241m=\u001b[39m\u001b[38;5;124m\"\u001b[39m\u001b[38;5;124mBatch\u001b[39m\u001b[38;5;124m\"\u001b[39m, leave\u001b[38;5;241m=\u001b[39m\u001b[38;5;28;01mFalse\u001b[39;00m):\n\u001b[1;32m    287\u001b[0m     image, question, answers, mode_answer \u001b[38;5;241m=\u001b[39m \\\n\u001b[1;32m    288\u001b[0m         image\u001b[38;5;241m.\u001b[39mto(device, dtype\u001b[38;5;241m=\u001b[39mtorch\u001b[38;5;241m.\u001b[39mbfloat16), question\u001b[38;5;241m.\u001b[39mto(device, dtype\u001b[38;5;241m=\u001b[39mtorch\u001b[38;5;241m.\u001b[39mbfloat16), answers\u001b[38;5;241m.\u001b[39mto(device), mode_answer\u001b[38;5;241m.\u001b[39mto(device)\n\u001b[1;32m    289\u001b[0m     \u001b[38;5;66;03m#print(image.shape, question.shape, answers.shape, mode_answer.shape)\u001b[39;00m\n",
      "File \u001b[0;32m/usr/local/lib/python3.10/dist-packages/tqdm/std.py:1181\u001b[0m, in \u001b[0;36mtqdm.__iter__\u001b[0;34m(self)\u001b[0m\n\u001b[1;32m   1178\u001b[0m time \u001b[38;5;241m=\u001b[39m \u001b[38;5;28mself\u001b[39m\u001b[38;5;241m.\u001b[39m_time\n\u001b[1;32m   1180\u001b[0m \u001b[38;5;28;01mtry\u001b[39;00m:\n\u001b[0;32m-> 1181\u001b[0m     \u001b[38;5;28;01mfor\u001b[39;00m obj \u001b[38;5;129;01min\u001b[39;00m iterable:\n\u001b[1;32m   1182\u001b[0m         \u001b[38;5;28;01myield\u001b[39;00m obj\n\u001b[1;32m   1183\u001b[0m         \u001b[38;5;66;03m# Update and possibly print the progressbar.\u001b[39;00m\n\u001b[1;32m   1184\u001b[0m         \u001b[38;5;66;03m# Note: does not call self.update(1) for speed optimisation.\u001b[39;00m\n",
      "File \u001b[0;32m/usr/local/lib/python3.10/dist-packages/torch/utils/data/dataloader.py:631\u001b[0m, in \u001b[0;36m_BaseDataLoaderIter.__next__\u001b[0;34m(self)\u001b[0m\n\u001b[1;32m    628\u001b[0m \u001b[38;5;28;01mif\u001b[39;00m \u001b[38;5;28mself\u001b[39m\u001b[38;5;241m.\u001b[39m_sampler_iter \u001b[38;5;129;01mis\u001b[39;00m \u001b[38;5;28;01mNone\u001b[39;00m:\n\u001b[1;32m    629\u001b[0m     \u001b[38;5;66;03m# TODO(https://github.com/pytorch/pytorch/issues/76750)\u001b[39;00m\n\u001b[1;32m    630\u001b[0m     \u001b[38;5;28mself\u001b[39m\u001b[38;5;241m.\u001b[39m_reset()  \u001b[38;5;66;03m# type: ignore[call-arg]\u001b[39;00m\n\u001b[0;32m--> 631\u001b[0m data \u001b[38;5;241m=\u001b[39m \u001b[38;5;28;43mself\u001b[39;49m\u001b[38;5;241;43m.\u001b[39;49m\u001b[43m_next_data\u001b[49m\u001b[43m(\u001b[49m\u001b[43m)\u001b[49m\n\u001b[1;32m    632\u001b[0m \u001b[38;5;28mself\u001b[39m\u001b[38;5;241m.\u001b[39m_num_yielded \u001b[38;5;241m+\u001b[39m\u001b[38;5;241m=\u001b[39m \u001b[38;5;241m1\u001b[39m\n\u001b[1;32m    633\u001b[0m \u001b[38;5;28;01mif\u001b[39;00m \u001b[38;5;28mself\u001b[39m\u001b[38;5;241m.\u001b[39m_dataset_kind \u001b[38;5;241m==\u001b[39m _DatasetKind\u001b[38;5;241m.\u001b[39mIterable \u001b[38;5;129;01mand\u001b[39;00m \\\n\u001b[1;32m    634\u001b[0m         \u001b[38;5;28mself\u001b[39m\u001b[38;5;241m.\u001b[39m_IterableDataset_len_called \u001b[38;5;129;01mis\u001b[39;00m \u001b[38;5;129;01mnot\u001b[39;00m \u001b[38;5;28;01mNone\u001b[39;00m \u001b[38;5;129;01mand\u001b[39;00m \\\n\u001b[1;32m    635\u001b[0m         \u001b[38;5;28mself\u001b[39m\u001b[38;5;241m.\u001b[39m_num_yielded \u001b[38;5;241m>\u001b[39m \u001b[38;5;28mself\u001b[39m\u001b[38;5;241m.\u001b[39m_IterableDataset_len_called:\n",
      "File \u001b[0;32m/usr/local/lib/python3.10/dist-packages/torch/utils/data/dataloader.py:675\u001b[0m, in \u001b[0;36m_SingleProcessDataLoaderIter._next_data\u001b[0;34m(self)\u001b[0m\n\u001b[1;32m    673\u001b[0m \u001b[38;5;28;01mdef\u001b[39;00m \u001b[38;5;21m_next_data\u001b[39m(\u001b[38;5;28mself\u001b[39m):\n\u001b[1;32m    674\u001b[0m     index \u001b[38;5;241m=\u001b[39m \u001b[38;5;28mself\u001b[39m\u001b[38;5;241m.\u001b[39m_next_index()  \u001b[38;5;66;03m# may raise StopIteration\u001b[39;00m\n\u001b[0;32m--> 675\u001b[0m     data \u001b[38;5;241m=\u001b[39m \u001b[38;5;28;43mself\u001b[39;49m\u001b[38;5;241;43m.\u001b[39;49m\u001b[43m_dataset_fetcher\u001b[49m\u001b[38;5;241;43m.\u001b[39;49m\u001b[43mfetch\u001b[49m\u001b[43m(\u001b[49m\u001b[43mindex\u001b[49m\u001b[43m)\u001b[49m  \u001b[38;5;66;03m# may raise StopIteration\u001b[39;00m\n\u001b[1;32m    676\u001b[0m     \u001b[38;5;28;01mif\u001b[39;00m \u001b[38;5;28mself\u001b[39m\u001b[38;5;241m.\u001b[39m_pin_memory:\n\u001b[1;32m    677\u001b[0m         data \u001b[38;5;241m=\u001b[39m _utils\u001b[38;5;241m.\u001b[39mpin_memory\u001b[38;5;241m.\u001b[39mpin_memory(data, \u001b[38;5;28mself\u001b[39m\u001b[38;5;241m.\u001b[39m_pin_memory_device)\n",
      "File \u001b[0;32m/usr/local/lib/python3.10/dist-packages/torch/utils/data/_utils/fetch.py:51\u001b[0m, in \u001b[0;36m_MapDatasetFetcher.fetch\u001b[0;34m(self, possibly_batched_index)\u001b[0m\n\u001b[1;32m     49\u001b[0m         data \u001b[38;5;241m=\u001b[39m \u001b[38;5;28mself\u001b[39m\u001b[38;5;241m.\u001b[39mdataset\u001b[38;5;241m.\u001b[39m__getitems__(possibly_batched_index)\n\u001b[1;32m     50\u001b[0m     \u001b[38;5;28;01melse\u001b[39;00m:\n\u001b[0;32m---> 51\u001b[0m         data \u001b[38;5;241m=\u001b[39m [\u001b[38;5;28mself\u001b[39m\u001b[38;5;241m.\u001b[39mdataset[idx] \u001b[38;5;28;01mfor\u001b[39;00m idx \u001b[38;5;129;01min\u001b[39;00m possibly_batched_index]\n\u001b[1;32m     52\u001b[0m \u001b[38;5;28;01melse\u001b[39;00m:\n\u001b[1;32m     53\u001b[0m     data \u001b[38;5;241m=\u001b[39m \u001b[38;5;28mself\u001b[39m\u001b[38;5;241m.\u001b[39mdataset[possibly_batched_index]\n",
      "File \u001b[0;32m/usr/local/lib/python3.10/dist-packages/torch/utils/data/_utils/fetch.py:51\u001b[0m, in \u001b[0;36m<listcomp>\u001b[0;34m(.0)\u001b[0m\n\u001b[1;32m     49\u001b[0m         data \u001b[38;5;241m=\u001b[39m \u001b[38;5;28mself\u001b[39m\u001b[38;5;241m.\u001b[39mdataset\u001b[38;5;241m.\u001b[39m__getitems__(possibly_batched_index)\n\u001b[1;32m     50\u001b[0m     \u001b[38;5;28;01melse\u001b[39;00m:\n\u001b[0;32m---> 51\u001b[0m         data \u001b[38;5;241m=\u001b[39m [\u001b[38;5;28;43mself\u001b[39;49m\u001b[38;5;241;43m.\u001b[39;49m\u001b[43mdataset\u001b[49m\u001b[43m[\u001b[49m\u001b[43midx\u001b[49m\u001b[43m]\u001b[49m \u001b[38;5;28;01mfor\u001b[39;00m idx \u001b[38;5;129;01min\u001b[39;00m possibly_batched_index]\n\u001b[1;32m     52\u001b[0m \u001b[38;5;28;01melse\u001b[39;00m:\n\u001b[1;32m     53\u001b[0m     data \u001b[38;5;241m=\u001b[39m \u001b[38;5;28mself\u001b[39m\u001b[38;5;241m.\u001b[39mdataset[possibly_batched_index]\n",
      "Cell \u001b[0;32mIn[93], line 166\u001b[0m, in \u001b[0;36mVQADataset.__getitem__\u001b[0;34m(self, idx)\u001b[0m\n\u001b[1;32m    164\u001b[0m max_num \u001b[38;5;241m=\u001b[39m \u001b[38;5;241m1\u001b[39m\n\u001b[1;32m    165\u001b[0m transform \u001b[38;5;241m=\u001b[39m build_transform(input_size\u001b[38;5;241m=\u001b[39minput_size)\n\u001b[0;32m--> 166\u001b[0m images \u001b[38;5;241m=\u001b[39m \u001b[43mdynamic_preprocess\u001b[49m\u001b[43m(\u001b[49m\u001b[43mimage\u001b[49m\u001b[43m,\u001b[49m\u001b[43m \u001b[49m\u001b[43mimage_size\u001b[49m\u001b[38;5;241;43m=\u001b[39;49m\u001b[43minput_size\u001b[49m\u001b[43m,\u001b[49m\u001b[43m \u001b[49m\u001b[43muse_thumbnail\u001b[49m\u001b[38;5;241;43m=\u001b[39;49m\u001b[38;5;28;43;01mTrue\u001b[39;49;00m\u001b[43m,\u001b[49m\u001b[43m \u001b[49m\u001b[43mmax_num\u001b[49m\u001b[38;5;241;43m=\u001b[39;49m\u001b[43mmax_num\u001b[49m\u001b[43m)\u001b[49m\n\u001b[1;32m    167\u001b[0m pixel_values \u001b[38;5;241m=\u001b[39m [transform(image) \u001b[38;5;28;01mfor\u001b[39;00m image \u001b[38;5;129;01min\u001b[39;00m images]\n\u001b[1;32m    168\u001b[0m pixel_values \u001b[38;5;241m=\u001b[39m torch\u001b[38;5;241m.\u001b[39mstack(pixel_values)\n",
      "Cell \u001b[0;32mIn[93], line 67\u001b[0m, in \u001b[0;36mdynamic_preprocess\u001b[0;34m(image, min_num, max_num, image_size, use_thumbnail)\u001b[0m\n\u001b[1;32m     64\u001b[0m target_height \u001b[38;5;241m=\u001b[39m image_size \u001b[38;5;241m*\u001b[39m target_aspect_ratio[\u001b[38;5;241m1\u001b[39m]\n\u001b[1;32m     65\u001b[0m blocks \u001b[38;5;241m=\u001b[39m target_aspect_ratio[\u001b[38;5;241m0\u001b[39m] \u001b[38;5;241m*\u001b[39m target_aspect_ratio[\u001b[38;5;241m1\u001b[39m]\n\u001b[0;32m---> 67\u001b[0m resized_img \u001b[38;5;241m=\u001b[39m \u001b[43mimage\u001b[49m\u001b[38;5;241;43m.\u001b[39;49m\u001b[43mresize\u001b[49m\u001b[43m(\u001b[49m\u001b[43m(\u001b[49m\u001b[43mtarget_width\u001b[49m\u001b[43m,\u001b[49m\u001b[43m \u001b[49m\u001b[43mtarget_height\u001b[49m\u001b[43m)\u001b[49m\u001b[43m)\u001b[49m\n\u001b[1;32m     68\u001b[0m processed_images \u001b[38;5;241m=\u001b[39m []\n\u001b[1;32m     69\u001b[0m \u001b[38;5;28;01mfor\u001b[39;00m i \u001b[38;5;129;01min\u001b[39;00m \u001b[38;5;28mrange\u001b[39m(blocks):\n",
      "File \u001b[0;32m/usr/local/lib/python3.10/dist-packages/PIL/Image.py:2222\u001b[0m, in \u001b[0;36mImage.resize\u001b[0;34m(self, size, resample, box, reducing_gap)\u001b[0m\n\u001b[1;32m   2210\u001b[0m         \u001b[38;5;28mself\u001b[39m \u001b[38;5;241m=\u001b[39m (\n\u001b[1;32m   2211\u001b[0m             \u001b[38;5;28mself\u001b[39m\u001b[38;5;241m.\u001b[39mreduce(factor, box\u001b[38;5;241m=\u001b[39mreduce_box)\n\u001b[1;32m   2212\u001b[0m             \u001b[38;5;28;01mif\u001b[39;00m \u001b[38;5;28mcallable\u001b[39m(\u001b[38;5;28mself\u001b[39m\u001b[38;5;241m.\u001b[39mreduce)\n\u001b[1;32m   2213\u001b[0m             \u001b[38;5;28;01melse\u001b[39;00m Image\u001b[38;5;241m.\u001b[39mreduce(\u001b[38;5;28mself\u001b[39m, factor, box\u001b[38;5;241m=\u001b[39mreduce_box)\n\u001b[1;32m   2214\u001b[0m         )\n\u001b[1;32m   2215\u001b[0m         box \u001b[38;5;241m=\u001b[39m (\n\u001b[1;32m   2216\u001b[0m             (box[\u001b[38;5;241m0\u001b[39m] \u001b[38;5;241m-\u001b[39m reduce_box[\u001b[38;5;241m0\u001b[39m]) \u001b[38;5;241m/\u001b[39m factor_x,\n\u001b[1;32m   2217\u001b[0m             (box[\u001b[38;5;241m1\u001b[39m] \u001b[38;5;241m-\u001b[39m reduce_box[\u001b[38;5;241m1\u001b[39m]) \u001b[38;5;241m/\u001b[39m factor_y,\n\u001b[1;32m   2218\u001b[0m             (box[\u001b[38;5;241m2\u001b[39m] \u001b[38;5;241m-\u001b[39m reduce_box[\u001b[38;5;241m0\u001b[39m]) \u001b[38;5;241m/\u001b[39m factor_x,\n\u001b[1;32m   2219\u001b[0m             (box[\u001b[38;5;241m3\u001b[39m] \u001b[38;5;241m-\u001b[39m reduce_box[\u001b[38;5;241m1\u001b[39m]) \u001b[38;5;241m/\u001b[39m factor_y,\n\u001b[1;32m   2220\u001b[0m         )\n\u001b[0;32m-> 2222\u001b[0m \u001b[38;5;28;01mreturn\u001b[39;00m \u001b[38;5;28mself\u001b[39m\u001b[38;5;241m.\u001b[39m_new(\u001b[38;5;28;43mself\u001b[39;49m\u001b[38;5;241;43m.\u001b[39;49m\u001b[43mim\u001b[49m\u001b[38;5;241;43m.\u001b[39;49m\u001b[43mresize\u001b[49m\u001b[43m(\u001b[49m\u001b[43msize\u001b[49m\u001b[43m,\u001b[49m\u001b[43m \u001b[49m\u001b[43mresample\u001b[49m\u001b[43m,\u001b[49m\u001b[43m \u001b[49m\u001b[43mbox\u001b[49m\u001b[43m)\u001b[49m)\n",
      "\u001b[0;31mKeyboardInterrupt\u001b[0m: "
     ]
    }
   ],
   "source": [
    "set_seed(42)\n",
    "device = \"cuda\" if torch.cuda.is_available() else \"cpu\"\n",
    "\n",
    "train_dataset = VQADataset(df_path=\"/workspace/data/train.json\", image_dir=\"/workspace/data/train\", model=intern_model, tokenizer=tokenizer, answer=True)\n",
    "test_dataset = VQADataset(df_path=\"/workspace/data/valid.json\", image_dir=\"/workspace/data/valid\", model=intern_model, tokenizer=tokenizer, answer=False)\n",
    "test_dataset.update_dict(train_dataset)\n",
    "\n",
    "train_loader = torch.utils.data.DataLoader(train_dataset, batch_size=128, shuffle=True)\n",
    "test_loader = torch.utils.data.DataLoader(test_dataset, batch_size=1, shuffle=False)\n",
    "\n",
    "model = VQAModel(n_answer=len(train_dataset.answer2idx)).to(device)\n",
    "model = model.to(torch.bfloat16)  # モデル全体をbfloat16に変換\n",
    "\n",
    "\n",
    "num_epoch = 100\n",
    "criterion = nn.CrossEntropyLoss()\n",
    "optimizer = torch.optim.Adam(model.parameters(), lr=0.001, weight_decay=1e-5)\n",
    "\n",
    "for epoch in tqdm(range(num_epoch), desc=\"Epoch\"):\n",
    "    train_loss, train_acc, train_simple_acc, train_time = train(model, train_loader, optimizer, criterion, device)\n",
    "    print(f\"【{epoch + 1}/{num_epoch}】\\n\"\n",
    "            f\"train time: {train_time:.2f} [s]\\n\"\n",
    "            f\"train loss: {train_loss:.4f}\\n\"\n",
    "            f\"train acc: {train_acc:.4f}\\n\"\n",
    "            f\"train simple acc: {train_simple_acc:.4f}\")\n",
    "    \n",
    "    if True:\n",
    "        model.eval()\n",
    "        submission = []\n",
    "        for image, question in test_loader:\n",
    "            image, question = image.to(device, dtype=torch.bfloat16), question.to(device, dtype=torch.bfloat16)\n",
    "            pred = model(image, question)\n",
    "            pred = pred.argmax(1).cpu().item()\n",
    "            submission.append(pred)\n",
    "\n",
    "        submission = [train_dataset.idx2answer[id] for id in submission]\n",
    "        submission = np.array(submission)\n",
    "        torch.save(model.state_dict(), f\"/workspace/submissions/my_main_3_2/model/model_{epoch}.pth\")\n",
    "        np.save(f\"/workspace/submissions/my_main_3_2/npy/submission_{epoch}.npy\", submission)"
   ]
  },
  {
   "cell_type": "code",
   "execution_count": 77,
   "metadata": {},
   "outputs": [],
   "source": [
    "model.eval()\n",
    "submission = []\n",
    "for image, question in test_loader:\n",
    "    image, question = image.to(device, dtype=torch.bfloat16), question.to(device, dtype=torch.bfloat16)\n",
    "    pred = model(image, question)\n",
    "    pred = pred.argmax(1).cpu().item()\n",
    "    submission.append(pred)\n",
    "\n",
    "submission = [train_dataset.idx2answer[id] for id in submission]\n",
    "submission = np.array(submission)\n",
    "# torch.save(model.state_dict(), f\"/workspace/submissions/my_main_3_2/model/model_test.pth\")\n",
    "# np.save(f\"/workspace/submissions/my_main_3_2/npy/submission_test.npy\", submission)"
   ]
  },
  {
   "cell_type": "code",
   "execution_count": null,
   "metadata": {},
   "outputs": [],
   "source": [
    "for image, question, answers, mode_answer in train_loader:\n",
    "        image, question, answers, mode_answer = \\\n",
    "            image.to(device, dtype=torch.bfloat16), question.to(device, dtype=torch.bfloat16), answers.to(device), mode_answer.to(device)\n",
    "        #print(image.shape, question.shape, answers.shape, mode_answer.shape)\n",
    "        pred = model(image, question)"
   ]
  },
  {
   "cell_type": "code",
   "execution_count": 80,
   "metadata": {},
   "outputs": [
    {
     "name": "stdout",
     "output_type": "stream",
     "text": [
      "{'unanswerable': 3268, 'no': 1682, 'yes': 11, 'white': 8}\n"
     ]
    }
   ],
   "source": [
    "ans_dict = {}\n",
    "for ans in submission:\n",
    "    if ans not in ans_dict:\n",
    "        ans_dict[ans] = 1\n",
    "    else:\n",
    "        ans_dict[ans] += 1\n",
    "ans_dict = dict(sorted(ans_dict.items(), key=lambda x: x[1], reverse=True))\n",
    "print(ans_dict)"
   ]
  },
  {
   "cell_type": "code",
   "execution_count": 49,
   "metadata": {},
   "outputs": [],
   "source": [
    "# 各画像のモードアンサーを計算\n",
    "mode_answers = []\n",
    "\n",
    "for idx, row in df.iterrows():\n",
    "    answers = [ans['answer'] for ans in row['answers']]\n",
    "    mode_answer = Counter(answers).most_common(1)[0][0]\n",
    "    mode_answers.append(mode_answer)\n",
    "\n",
    "# モードアンサーの分布を取得\n",
    "mode_answer_counts = Counter(mode_answers)"
   ]
  },
  {
   "cell_type": "code",
   "execution_count": 53,
   "metadata": {},
   "outputs": [
    {
     "data": {
      "text/plain": [
       "Counter({'unanswerable': 7565,\n",
       "         'no': 481,\n",
       "         'yes': 476,\n",
       "         'white': 300,\n",
       "         'grey': 266,\n",
       "         'black': 227,\n",
       "         'blue': 195,\n",
       "         'red': 115,\n",
       "         'brown': 99,\n",
       "         'pink': 91,\n",
       "         'keyboard': 89,\n",
       "         'green': 73,\n",
       "         'laptop': 68,\n",
       "         'purple': 64,\n",
       "         'dog': 63,\n",
       "         'soup': 57,\n",
       "         'phone': 53,\n",
       "         'yellow': 48,\n",
       "         'coca cola': 41,\n",
       "         'lotion': 40,\n",
       "         'cell phone': 40,\n",
       "         'wine': 40,\n",
       "         'remote': 37,\n",
       "         'nothing': 36,\n",
       "         'tv': 35,\n",
       "         'corn': 35,\n",
       "         'orange': 34,\n",
       "         'computer screen': 33,\n",
       "         'pepsi': 33,\n",
       "         'coffee': 31,\n",
       "         'chair': 30,\n",
       "         'chicken': 29,\n",
       "         'computer': 28,\n",
       "         'green beans': 28,\n",
       "         'beer': 28,\n",
       "         'tan': 27,\n",
       "         'shampoo': 26,\n",
       "         'pen': 26,\n",
       "         'water bottle': 26,\n",
       "         'cup': 26,\n",
       "         'hand sanitizer': 25,\n",
       "         'remote control': 25,\n",
       "         'cereal': 24,\n",
       "         'money': 24,\n",
       "         'black white': 23,\n",
       "         'cat': 21,\n",
       "         'beans': 21,\n",
       "         'dr pepper': 20,\n",
       "         'flowers': 20,\n",
       "         'door': 20,\n",
       "         '20': 20,\n",
       "         'diet coke': 19,\n",
       "         'mountain dew': 19,\n",
       "         'table': 19,\n",
       "         'regular': 19,\n",
       "         'iphone': 18,\n",
       "         'hand': 18,\n",
       "         'silver': 18,\n",
       "         '5': 18,\n",
       "         'living room': 17,\n",
       "         'desk': 17,\n",
       "         'book': 17,\n",
       "         'tomato sauce': 17,\n",
       "         'candy': 17,\n",
       "         '1 dollar': 16,\n",
       "         'macaroni cheese': 16,\n",
       "         'cigarettes': 16,\n",
       "         'can': 16,\n",
       "         'water': 16,\n",
       "         '10': 16,\n",
       "         'clear': 16,\n",
       "         'plant': 16,\n",
       "         'off': 15,\n",
       "         'french vanilla': 15,\n",
       "         'chocolate': 15,\n",
       "         'car': 15,\n",
       "         'gold': 15,\n",
       "         'telephone': 15,\n",
       "         'fan': 14,\n",
       "         'sprite': 14,\n",
       "         'cloudy': 14,\n",
       "         'apple': 14,\n",
       "         'food': 14,\n",
       "         'cream mushroom soup': 14,\n",
       "         'bottle': 14,\n",
       "         'beef': 14,\n",
       "         'television': 13,\n",
       "         'tomatoes': 13,\n",
       "         'blue white': 13,\n",
       "         'shoe': 13,\n",
       "         '2': 13,\n",
       "         'tablet': 13,\n",
       "         'foot': 13,\n",
       "         'right side up': 13,\n",
       "         'orange juice': 13,\n",
       "         'computer mouse': 13,\n",
       "         'right': 13,\n",
       "         'watch': 12,\n",
       "         'soda': 12,\n",
       "         'beige': 12,\n",
       "         'shoes': 12,\n",
       "         'left': 12,\n",
       "         'cookies': 12,\n",
       "         'ginger ale': 12,\n",
       "         'tea': 12,\n",
       "         'mouse': 12,\n",
       "         'coke': 12,\n",
       "         'coffee cup': 12,\n",
       "         'cream mushroom': 11,\n",
       "         '0': 11,\n",
       "         'shirt': 11,\n",
       "         'black beans': 11,\n",
       "         'headphones': 11,\n",
       "         'speaker': 11,\n",
       "         'plaid': 11,\n",
       "         'startup repair': 11,\n",
       "         'milk': 10,\n",
       "         'sky': 10,\n",
       "         'baked beans': 10,\n",
       "         'blanket': 10,\n",
       "         'couch': 10,\n",
       "         'peanut butter': 10,\n",
       "         'cake mix': 10,\n",
       "         'perfume': 10,\n",
       "         'window': 10,\n",
       "         'green white': 10,\n",
       "         'spinach': 10,\n",
       "         'body lotion': 10,\n",
       "         'peach': 10,\n",
       "         'glasses': 10,\n",
       "         'hat': 10,\n",
       "         'dark': 10,\n",
       "         'pinto beans': 10,\n",
       "         'ketchup': 10,\n",
       "         'box': 10,\n",
       "         '1': 10,\n",
       "         'microsoft corporation': 9,\n",
       "         'chips': 9,\n",
       "         'vanilla': 9,\n",
       "         '3': 9,\n",
       "         'grass': 9,\n",
       "         'mug': 9,\n",
       "         'light': 9,\n",
       "         'crackers': 9,\n",
       "         'clock': 9,\n",
       "         'lamp': 9,\n",
       "         'ipad': 9,\n",
       "         'salt vinegar': 9,\n",
       "         'chicken noodle soup': 9,\n",
       "         'gum': 9,\n",
       "         'soap': 9,\n",
       "         'rug': 9,\n",
       "         'purse': 9,\n",
       "         'cd': 9,\n",
       "         '1 dollar bill': 8,\n",
       "         'ceiling fan': 8,\n",
       "         'cottage pie': 8,\n",
       "         'pudding': 8,\n",
       "         'cherry': 8,\n",
       "         'wallet': 8,\n",
       "         'chili': 8,\n",
       "         'bed': 8,\n",
       "         'ibuprofen': 8,\n",
       "         'dollar bill': 8,\n",
       "         'up': 8,\n",
       "         'popcorn': 8,\n",
       "         'wall': 8,\n",
       "         'meatloaf': 8,\n",
       "         'radio': 8,\n",
       "         'vegetables': 8,\n",
       "         'christmas tree': 8,\n",
       "         'kitchen': 8,\n",
       "         'diced tomatoes': 8,\n",
       "         'ravioli': 8,\n",
       "         'on': 8,\n",
       "         'strawberry': 8,\n",
       "         'toothpaste': 8,\n",
       "         'ground beef': 8,\n",
       "         'yes white': 8,\n",
       "         'flower': 8,\n",
       "         'chicken noodle': 8,\n",
       "         'dvd': 8,\n",
       "         'kleenex': 7,\n",
       "         'granola bars': 7,\n",
       "         'wood': 7,\n",
       "         'salt': 7,\n",
       "         'broccoli': 7,\n",
       "         'hazelnut': 7,\n",
       "         'rice': 7,\n",
       "         'calculator': 7,\n",
       "         'oatmeal': 7,\n",
       "         'terrier': 7,\n",
       "         'glass': 7,\n",
       "         'tuna': 7,\n",
       "         'potatoes': 7,\n",
       "         'mixed vegetables': 7,\n",
       "         'brownie mix': 7,\n",
       "         'pepperoni': 7,\n",
       "         'peaches': 7,\n",
       "         '8': 7,\n",
       "         'spaghetti meatballs': 7,\n",
       "         'tree': 7,\n",
       "         'carpet': 7,\n",
       "         'mustard': 7,\n",
       "         'keys': 7,\n",
       "         'pillow': 7,\n",
       "         'peas': 7,\n",
       "         'woman': 7,\n",
       "         'bush': 7,\n",
       "         'butter': 7,\n",
       "         'healthy choice': 7,\n",
       "         'paper': 6,\n",
       "         'card': 6,\n",
       "         'red white': 6,\n",
       "         'juice': 6,\n",
       "         'hamburger helper': 6,\n",
       "         'body wash': 6,\n",
       "         'golden retriever': 6,\n",
       "         'negative': 6,\n",
       "         'blueberry': 6,\n",
       "         'apple juice': 6,\n",
       "         'pizza': 6,\n",
       "         'computer monitor': 6,\n",
       "         'sunglasses': 6,\n",
       "         'teddy bear': 6,\n",
       "         'tissue': 6,\n",
       "         'sauce': 6,\n",
       "         'pasta': 6,\n",
       "         'legs': 6,\n",
       "         'tropical punch': 6,\n",
       "         'coke 0': 6,\n",
       "         '4': 6,\n",
       "         'cinnamon': 6,\n",
       "         'tomato soup': 6,\n",
       "         'house blend': 6,\n",
       "         'porcupines in tomato sauce': 6,\n",
       "         'conditioner': 6,\n",
       "         'finger': 6,\n",
       "         'menu': 6,\n",
       "         'harry potter': 6,\n",
       "         'blank': 6,\n",
       "         'tylenol': 6,\n",
       "         'pickles': 6,\n",
       "         'video game': 6,\n",
       "         'chicken broth': 6,\n",
       "         'spaghetti': 6,\n",
       "         'cranberry sauce': 6,\n",
       "         'nestea': 6,\n",
       "         'bedroom': 6,\n",
       "         'diet pepsi': 6,\n",
       "         'stuffed animal': 6,\n",
       "         'khaki': 6,\n",
       "         'root beer': 6,\n",
       "         'cheerios': 6,\n",
       "         'mrs dash': 6,\n",
       "         'vitamins': 6,\n",
       "         '8 minutes': 6,\n",
       "         'windex': 6,\n",
       "         'salad dressing': 5,\n",
       "         'leaves': 5,\n",
       "         'french roast': 5,\n",
       "         'spaghetti sauce': 5,\n",
       "         'trash can': 5,\n",
       "         'white black': 5,\n",
       "         'corned beef': 5,\n",
       "         'stapler': 5,\n",
       "         '350': 5,\n",
       "         'lemon': 5,\n",
       "         'alcohol': 5,\n",
       "         'guitar': 5,\n",
       "         'espresso': 5,\n",
       "         'original': 5,\n",
       "         'charger': 5,\n",
       "         '72': 5,\n",
       "         'cake': 5,\n",
       "         'sugar': 5,\n",
       "         'mashed potatoes': 5,\n",
       "         'beef broth': 5,\n",
       "         'microwave': 5,\n",
       "         'm&ms': 5,\n",
       "         '79': 5,\n",
       "         'tool': 5,\n",
       "         'brown white': 5,\n",
       "         '1 line': 5,\n",
       "         'printer': 5,\n",
       "         'ipod': 5,\n",
       "         'windows': 5,\n",
       "         'dark chocolate': 5,\n",
       "         'installing windows': 5,\n",
       "         'lasagne': 5,\n",
       "         'sausage': 5,\n",
       "         'alarm clock': 5,\n",
       "         'toy': 5,\n",
       "         'chicken breast': 5,\n",
       "         'sink': 5,\n",
       "         'muffin mix': 5,\n",
       "         'error message': 5,\n",
       "         'chili beans': 5,\n",
       "         'chicken dijon': 5,\n",
       "         'stove': 5,\n",
       "         'meat': 5,\n",
       "         'floral': 5,\n",
       "         'peanut butter crunch': 5,\n",
       "         'floor': 4,\n",
       "         'vase': 4,\n",
       "         'monitor': 4,\n",
       "         'air freshener': 4,\n",
       "         'whiskey': 4,\n",
       "         'kidney beans': 4,\n",
       "         'puzzle': 4,\n",
       "         'light blue': 4,\n",
       "         'crumbed fillet fish': 4,\n",
       "         'pink white': 4,\n",
       "         'pineapple': 4,\n",
       "         'manwich': 4,\n",
       "         'stroganoff': 4,\n",
       "         'sunscreen': 4,\n",
       "         'ginger': 4,\n",
       "         'heater': 4,\n",
       "         'black blue': 4,\n",
       "         'honey nut cheerios': 4,\n",
       "         'tv remote': 4,\n",
       "         '68': 4,\n",
       "         'cappuccino': 4,\n",
       "         'sea salt': 4,\n",
       "         'steering wheel': 4,\n",
       "         'buttons': 4,\n",
       "         'mints': 4,\n",
       "         'entertainment center': 4,\n",
       "         'big print address book': 4,\n",
       "         'basil': 4,\n",
       "         'pear': 4,\n",
       "         'grape': 4,\n",
       "         'top': 4,\n",
       "         'taco seasoning': 4,\n",
       "         'bag': 4,\n",
       "         'granola bar': 4,\n",
       "         '78': 4,\n",
       "         'salisbury steak': 4,\n",
       "         'cartoon': 4,\n",
       "         'deodorant': 4,\n",
       "         'towel': 4,\n",
       "         'olives': 4,\n",
       "         'cross': 4,\n",
       "         'tomato': 4,\n",
       "         'please select boot device': 4,\n",
       "         'hot pockets': 4,\n",
       "         'pot pie': 4,\n",
       "         'clouds': 4,\n",
       "         '20 dollar bill': 4,\n",
       "         'advil': 4,\n",
       "         'microsoft': 4,\n",
       "         'low': 4,\n",
       "         'lemon juice': 4,\n",
       "         'potato chips': 4,\n",
       "         'painting': 4,\n",
       "         'magazine': 4,\n",
       "         'dog toy': 4,\n",
       "         'chopped spinach': 4,\n",
       "         'vegetable': 4,\n",
       "         '100': 4,\n",
       "         'fish oil': 4,\n",
       "         'raisins': 4,\n",
       "         'high': 4,\n",
       "         'cream chicken': 4,\n",
       "         'cabinet': 4,\n",
       "         '75': 4,\n",
       "         'toshiba': 4,\n",
       "         'ashtray': 4,\n",
       "         'toilet paper': 4,\n",
       "         'butterfly': 4,\n",
       "         'cough drops': 4,\n",
       "         '74': 4,\n",
       "         'camera': 4,\n",
       "         'mixed nuts': 4,\n",
       "         'savoury beef rissoles': 4,\n",
       "         'shower gel': 4,\n",
       "         'laundry detergent': 4,\n",
       "         'mouthwash': 4,\n",
       "         'honey soy chicken': 4,\n",
       "         'fireplace': 4,\n",
       "         'melatonin': 4,\n",
       "         'watermelon': 4,\n",
       "         'garlic powder': 4,\n",
       "         'fruit': 4,\n",
       "         '69': 4,\n",
       "         'gift card': 4,\n",
       "         'dehumidifier': 4,\n",
       "         'football': 4,\n",
       "         'roast beef': 4,\n",
       "         'vending machine': 4,\n",
       "         'ceiling': 4,\n",
       "         'ring': 4,\n",
       "         'sweet corn': 4,\n",
       "         'dell': 4,\n",
       "         'kahlua': 4,\n",
       "         'smoked bacon tomato': 4,\n",
       "         'chicken pot pie': 4,\n",
       "         'bud light': 4,\n",
       "         'itunes': 4,\n",
       "         'coin': 4,\n",
       "         'diet dr pepper': 4,\n",
       "         'refried beans': 4,\n",
       "         'pills': 4,\n",
       "         'scissors': 4,\n",
       "         'cheez': 4,\n",
       "         'trees': 4,\n",
       "         'drink': 4,\n",
       "         'statue': 4,\n",
       "         'coffee mug': 4,\n",
       "         'gevalia': 4,\n",
       "         'steak rub': 3,\n",
       "         'cheese': 3,\n",
       "         'spot shot': 3,\n",
       "         'spanish rice': 3,\n",
       "         'sock': 3,\n",
       "         'decaffeinated': 3,\n",
       "         'dark chocolate truffle': 3,\n",
       "         'creamy chicken': 3,\n",
       "         'barbecue sauce': 3,\n",
       "         'keurig': 3,\n",
       "         'cigarette': 3,\n",
       "         'donut': 3,\n",
       "         'rigatoni': 3,\n",
       "         'salsa': 3,\n",
       "         'ear training': 3,\n",
       "         'nutrition facts': 3,\n",
       "         'boots': 3,\n",
       "         'dont know': 3,\n",
       "         'seasoned steak bites': 3,\n",
       "         'bbq sauce': 3,\n",
       "         'cabernet sauvignon': 3,\n",
       "         'apple pie': 3,\n",
       "         'soda bottle': 3,\n",
       "         'black silver': 3,\n",
       "         'energy drink': 3,\n",
       "         'on table': 3,\n",
       "         'cranberry': 3,\n",
       "         'inhaler': 3,\n",
       "         '400': 3,\n",
       "         'sunflower seeds': 3,\n",
       "         'black tea': 3,\n",
       "         'leaf': 3,\n",
       "         'pork': 3,\n",
       "         'thermostat': 3,\n",
       "         'frozen vegetables': 3,\n",
       "         'vanilla hazelnut': 3,\n",
       "         'green mountain coffee': 3,\n",
       "         'honey bunches oats': 3,\n",
       "         'striped': 3,\n",
       "         'coupon': 3,\n",
       "         'german shepard': 3,\n",
       "         'dunkin donuts': 3,\n",
       "         'deer park': 3,\n",
       "         'tissues': 3,\n",
       "         'hippie chips': 3,\n",
       "         'sage': 3,\n",
       "         'cabinets': 3,\n",
       "         'black dog': 3,\n",
       "         'tissue box': 3,\n",
       "         'lager': 3,\n",
       "         'very clean': 3,\n",
       "         'office': 3,\n",
       "         'black tan': 3,\n",
       "         'corn flakes': 3,\n",
       "         'peppermint': 3,\n",
       "         'doll': 3,\n",
       "         'ground turkey': 3,\n",
       "         'dresser': 3,\n",
       "         'cream celery': 3,\n",
       "         'tape': 3,\n",
       "         'bottom': 3,\n",
       "         'pumpkin': 3,\n",
       "         'pink lemonade': 3,\n",
       "         't shirt': 3,\n",
       "         'pepsi max': 3,\n",
       "         'coconut': 3,\n",
       "         'candle': 3,\n",
       "         'tomato basil soup': 3,\n",
       "         'tomato paste': 3,\n",
       "         '13': 3,\n",
       "         'diet': 3,\n",
       "         'santa': 3,\n",
       "         '6': 3,\n",
       "         'll bean': 3,\n",
       "         'blue green red yellow': 3,\n",
       "         'playing cards': 3,\n",
       "         'paprika': 3,\n",
       "         'white pink': 3,\n",
       "         'room': 3,\n",
       "         'oolong': 3,\n",
       "         'hand soap': 3,\n",
       "         'banana': 3,\n",
       "         'can soup': 3,\n",
       "         'blue screen': 3,\n",
       "         'pepper': 3,\n",
       "         'use washer dryer swipe card': 3,\n",
       "         'baked chicken mushroom sauce': 3,\n",
       "         'apple cinnamon': 3,\n",
       "         'sunkist': 3,\n",
       "         'light grey': 3,\n",
       "         'squash': 3,\n",
       "         'cleaner': 3,\n",
       "         'world': 3,\n",
       "         'wild mountain blueberry': 3,\n",
       "         'peanuts': 3,\n",
       "         'install mac os x': 3,\n",
       "         'lighter': 3,\n",
       "         'snickers': 3,\n",
       "         'night time': 3,\n",
       "         'tv stand': 3,\n",
       "         'nokia': 3,\n",
       "         'backpack': 3,\n",
       "         'peanut butter crackers': 3,\n",
       "         'rose': 3,\n",
       "         'clean': 3,\n",
       "         'picture': 3,\n",
       "         'mac': 3,\n",
       "         'samsung': 3,\n",
       "         'glass water': 3,\n",
       "         'bottled water': 3,\n",
       "         'pancake mix': 3,\n",
       "         'maroon': 3,\n",
       "         'building': 3,\n",
       "         'wash rinse spin': 3,\n",
       "         'rum': 3,\n",
       "         'nike': 3,\n",
       "         'special k': 3,\n",
       "         'bottle cap': 3,\n",
       "         'tums': 3,\n",
       "         'beagle': 3,\n",
       "         'phone screen': 3,\n",
       "         'grandpas teeth': 3,\n",
       "         '1 2 cup': 3,\n",
       "         'apple logo': 3,\n",
       "         'chicken satay sauce': 3,\n",
       "         'stewed tomatoes': 3,\n",
       "         'jambalaya mix': 3,\n",
       "         'turkey': 3,\n",
       "         'dish soap': 3,\n",
       "         'jaffa cakes': 3,\n",
       "         'neosporin': 3,\n",
       "         'sweet peas': 3,\n",
       "         'dec 28 2013': 3,\n",
       "         'spaghetti seasoning': 3,\n",
       "         'fools costa rican tarrazu': 3,\n",
       "         'lab': 3,\n",
       "         'jacket': 3,\n",
       "         'oregano': 3,\n",
       "         'grocery store': 3,\n",
       "         'white blue': 3,\n",
       "         'vertical': 3,\n",
       "         'toothbrush': 3,\n",
       "         'light red kidney beans': 3,\n",
       "         'purell': 3,\n",
       "         'fruit cocktail': 3,\n",
       "         'logo': 3,\n",
       "         'yard': 3,\n",
       "         'earl grey': 3,\n",
       "         'pork beans': 3,\n",
       "         '73': 3,\n",
       "         'cheetos': 3,\n",
       "         'hot cocoa mix': 3,\n",
       "         'lasagna': 3,\n",
       "         'eye drops': 3,\n",
       "         'coca cola 0': 3,\n",
       "         'refrigerator': 3,\n",
       "         'lemon butter shrimp': 3,\n",
       "         'piano keys': 3,\n",
       "         'vodka': 3,\n",
       "         'your computer ran into problem': 3,\n",
       "         'blue grey': 3,\n",
       "         'candy bars': 3,\n",
       "         '5 dollars': 3,\n",
       "         'precious memories': 3,\n",
       "         'niagara falls': 3,\n",
       "         '978 0 13 265811 9': 3,\n",
       "         '76': 3,\n",
       "         'screenshot': 3,\n",
       "         'blackberry': 3,\n",
       "         'shaving cream': 3,\n",
       "         'cat food': 3,\n",
       "         'quilt': 3,\n",
       "         'lemonade': 3,\n",
       "         'sliced peaches': 3,\n",
       "         'barbecue': 3,\n",
       "         '73.5': 3,\n",
       "         'oriental': 3,\n",
       "         'flashlight': 3,\n",
       "         'fish': 3,\n",
       "         'benadryl': 3,\n",
       "         'pasta sauce': 3,\n",
       "         '90': 3,\n",
       "         'iron man 2': 3,\n",
       "         'chili powder': 3,\n",
       "         'acidophilus': 3,\n",
       "         'bird': 3,\n",
       "         'cord': 3,\n",
       "         'login screen': 3,\n",
       "         'white chocolate': 3,\n",
       "         'nasal spray': 3,\n",
       "         'outside': 3,\n",
       "         'fanta': 3,\n",
       "         'truck': 3,\n",
       "         'toilet': 3,\n",
       "         'carrots': 3,\n",
       "         'lg': 3,\n",
       "         'labrador': 3,\n",
       "         'ground': 3,\n",
       "         'hominy': 3,\n",
       "         'toy car': 3,\n",
       "         'potato soup': 3,\n",
       "         'celestial': 3,\n",
       "         'raspberry': 3,\n",
       "         'iced tea': 3,\n",
       "         'paper towels': 3,\n",
       "         'notebook': 3,\n",
       "         'backyard': 3,\n",
       "         'pens': 3,\n",
       "         'mvg': 3,\n",
       "         'native visions': 3,\n",
       "         'wheat thins': 3,\n",
       "         '70': 3,\n",
       "         'beef goulash': 3,\n",
       "         'chocolate chip': 3,\n",
       "         'daring': 3,\n",
       "         'drawing': 3,\n",
       "         'game': 3,\n",
       "         'beef dinner': 3,\n",
       "         'lime': 3,\n",
       "         'google': 3,\n",
       "         'hair': 3,\n",
       "         'caffe verona': 3,\n",
       "         'sin city las vegas': 3,\n",
       "         'beef stroganoff': 3,\n",
       "         'horse': 3,\n",
       "         'upside down': 3,\n",
       "         '450': 3,\n",
       "         'blue yellow': 3,\n",
       "         'cauliflower': 3,\n",
       "         'parking lot': 3,\n",
       "         'pliers': 3,\n",
       "         'kona blend': 3,\n",
       "         'house': 3,\n",
       "         'half': 3,\n",
       "         'nuts': 3,\n",
       "         'beef chuck steak': 2,\n",
       "         'hot': 2,\n",
       "         'vines': 2,\n",
       "         'saltines': 2,\n",
       "         'blue moon': 2,\n",
       "         'splenda': 2,\n",
       "         'person': 2,\n",
       "         'dog shampoo': 2,\n",
       "         'mushrooms': 2,\n",
       "         'shutting down': 2,\n",
       "         'homestyle italian': 2,\n",
       "         'pictures': 2,\n",
       "         'curried sausages': 2,\n",
       "         'magnifying glass': 2,\n",
       "         'caterpillar': 2,\n",
       "         'solid': 2,\n",
       "         'starting windows': 2,\n",
       "         'cola': 2,\n",
       "         'pork chops': 2,\n",
       "         'omaha steaks': 2,\n",
       "         'tim hortons': 2,\n",
       "         'august 13 2012': 2,\n",
       "         'silly lyrics': 2,\n",
       "         '9': 2,\n",
       "         '475': 2,\n",
       "         'cream': 2,\n",
       "         'dolce gabbana': 2,\n",
       "         'billie holiday': 2,\n",
       "         'oak': 2,\n",
       "         'hallway': 2,\n",
       "         'fishing in air': 2,\n",
       "         'cancel': 2,\n",
       "         'liquor': 2,\n",
       "         'invisible': 2,\n",
       "         'stereo': 2,\n",
       "         'gain': 2,\n",
       "         'classico': 2,\n",
       "         'star': 2,\n",
       "         'sleep': 2,\n",
       "         'chardonnay': 2,\n",
       "         'jeffrey': 2,\n",
       "         'sidewalk': 2,\n",
       "         'end table': 2,\n",
       "         'chicken stock': 2,\n",
       "         'ferlin husky': 2,\n",
       "         'kettle corn': 2,\n",
       "         'olay': 2,\n",
       "         'chapstick': 2,\n",
       "         'snack pack pudding': 2,\n",
       "         'burgundy': 2,\n",
       "         'tullys': 2,\n",
       "         'yamaha': 2,\n",
       "         'channa masala': 2,\n",
       "         'pool': 2,\n",
       "         'pretzels': 2,\n",
       "         '100 dollar bill': 2,\n",
       "         'merlot': 2,\n",
       "         'chives': 2,\n",
       "         'green day': 2,\n",
       "         'organic': 2,\n",
       "         'rocking horse': 2,\n",
       "         'real': 2,\n",
       "         'mini chips ahoy': 2,\n",
       "         'white red stripes': 2,\n",
       "         'folgers': 2,\n",
       "         '425': 2,\n",
       "         'tabasco': 2,\n",
       "         'mucinex': 2,\n",
       "         'arm': 2,\n",
       "         'baby wipes': 2,\n",
       "         '31 right side up': 2,\n",
       "         'mad money': 2,\n",
       "         'air vent': 2,\n",
       "         'dark chocolate hot cocoa': 2,\n",
       "         'spider': 2,\n",
       "         'dawn dish soap': 2,\n",
       "         'underwear': 2,\n",
       "         'netgear': 2,\n",
       "         'curtain': 2,\n",
       "         'peas carrots': 2,\n",
       "         'pinto': 2,\n",
       "         'jeans': 2,\n",
       "         'steak': 2,\n",
       "         'braised chicken almonds': 2,\n",
       "         'binoculars': 2,\n",
       "         'envelope': 2,\n",
       "         'anti itch lotion': 2,\n",
       "         '10 07 12': 2,\n",
       "         'bananas': 2,\n",
       "         'peach mango': 2,\n",
       "         'grey pink': 2,\n",
       "         'ranch': 2,\n",
       "         'nash': 2,\n",
       "         'jello': 2,\n",
       "         'dart board': 2,\n",
       "         '87.5': 2,\n",
       "         'peanut butter toast crunch': 2,\n",
       "         'meow mix': 2,\n",
       "         'yoplait': 2,\n",
       "         '74.5': 2,\n",
       "         'bus': 2,\n",
       "         'black onyx': 2,\n",
       "         'on floor': 2,\n",
       "         'schnauzer': 2,\n",
       "         'collard greens': 2,\n",
       "         'chef boyardee spaghetti meatballs': 2,\n",
       "         'mango': 2,\n",
       "         'maxwell house coffee': 2,\n",
       "         'bombshell': 2,\n",
       "         'burgers': 2,\n",
       "         'lysol': 2,\n",
       "         '330 upside down': 2,\n",
       "         'capri sun': 2,\n",
       "         'grape juice': 2,\n",
       "         'tropical fruit': 2,\n",
       "         'creamline milk': 2,\n",
       "         'lantern': 2,\n",
       "         'toilet tissue': 2,\n",
       "         'air conditioner': 2,\n",
       "         'oven bags': 2,\n",
       "         'fine fine school': 2,\n",
       "         'vaseline': 2,\n",
       "         'sleepytime herbal tea': 2,\n",
       "         'knife': 2,\n",
       "         'cupcake': 2,\n",
       "         'lip balm': 2,\n",
       "         'mayo': 2,\n",
       "         'yellow lab': 2,\n",
       "         'organic black beans': 2,\n",
       "         'maple brown sugar': 2,\n",
       "         'maxwell house': 2,\n",
       "         'fisherman pie': 2,\n",
       "         'baby powder': 2,\n",
       "         'decoration': 2,\n",
       "         'condom': 2,\n",
       "         'digital voice recorder': 2,\n",
       "         'taylor swift': 2,\n",
       "         'swords': 2,\n",
       "         'emerson': 2,\n",
       "         'stripes': 2,\n",
       "         'smiley face': 2,\n",
       "         'restore': 2,\n",
       "         'clorox': 2,\n",
       "         'calendar': 2,\n",
       "         'excedrin': 2,\n",
       "         'progresso': 2,\n",
       "         '7 minutes': 2,\n",
       "         'fish tank': 2,\n",
       "         'grey white': 2,\n",
       "         'klondike bar': 2,\n",
       "         '20 dollars': 2,\n",
       "         'chicken pot pie soup': 2,\n",
       "         'fools tanzanian peaberry': 2,\n",
       "         'dog years': 2,\n",
       "         'miller': 2,\n",
       "         'bar code': 2,\n",
       "         'beef ravioli': 2,\n",
       "         'treadmill': 2,\n",
       "         'special lasagne': 2,\n",
       "         'grey yes': 2,\n",
       "         'chicken tikka masala': 2,\n",
       "         'cheesy pasta': 2,\n",
       "         '38': 2,\n",
       "         'chile': 2,\n",
       "         'piano': 2,\n",
       "         'chocolate vanilla swirl': 2,\n",
       "         'thermometer': 2,\n",
       "         'lightbulb': 2,\n",
       "         'ranch dressing': 2,\n",
       "         'twizzlers': 2,\n",
       "         'cookbook': 2,\n",
       "         'mozzarella': 2,\n",
       "         'cranberry juice': 2,\n",
       "         'sandwich': 2,\n",
       "         'altoids': 2,\n",
       "         'lays': 2,\n",
       "         'cream corn': 2,\n",
       "         'champagne': 2,\n",
       "         'flute': 2,\n",
       "         'suitcase': 2,\n",
       "         'minus': 2,\n",
       "         'sunny': 2,\n",
       "         'sound case for ipod nano': 2,\n",
       "         'grey black': 2,\n",
       "         'macaroni': 2,\n",
       "         'trail mix': 2,\n",
       "         'oreos': 2,\n",
       "         'condensed milk': 2,\n",
       "         'spaghetti bolognaise': 2,\n",
       "         'gin': 2,\n",
       "         'spaghetti os': 2,\n",
       "         'tortellini': 2,\n",
       "         'nintendo': 2,\n",
       "         'very clear': 2,\n",
       "         'wine glass': 2,\n",
       "         'purple grey': 2,\n",
       "         'lean pockets': 2,\n",
       "         '80': 2,\n",
       "         'bell': 2,\n",
       "         'breakfast sandwich': 2,\n",
       "         'pie': 2,\n",
       "         'historic walk in san francisco': 2,\n",
       "         'curtains': 2,\n",
       "         'g': 2,\n",
       "         'white yellow': 2,\n",
       "         'city': 2,\n",
       "         'homer simpson': 2,\n",
       "         'arawak': 2,\n",
       "         'beer bread mix': 2,\n",
       "         'garlic bread': 2,\n",
       "         'grey black white': 2,\n",
       "         'shea body butter': 2,\n",
       "         'medicine': 2,\n",
       "         '409': 2,\n",
       "         'plain': 2,\n",
       "         'onion sea salt': 2,\n",
       "         'samuel adams winter lager': 2,\n",
       "         'ash tray': 2,\n",
       "         'spaghetti meat sauce': 2,\n",
       "         'paper towel': 2,\n",
       "         'bowl': 2,\n",
       "         'saint arnold': 2,\n",
       "         'screen': 2,\n",
       "         'triceratops': 2,\n",
       "         '4.65': 2,\n",
       "         'cheese balls': 2,\n",
       "         'windows 7': 2,\n",
       "         '04669861010001': 2,\n",
       "         'white bean chicken chili': 2,\n",
       "         'bread crumbs': 2,\n",
       "         'people': 2,\n",
       "         'blue white stripes': 2,\n",
       "         'coffee maker': 2,\n",
       "         'where red fern grows': 2,\n",
       "         'may 04 2013': 2,\n",
       "         'sweet pepper': 2,\n",
       "         'french': 2,\n",
       "         'boy': 2,\n",
       "         'necklace': 2,\n",
       "         'turquoise': 2,\n",
       "         'honey mustard': 2,\n",
       "         'chex mix': 2,\n",
       "         '24': 2,\n",
       "         'teal': 2,\n",
       "         'cannellini beans': 2,\n",
       "         '3:42': 2,\n",
       "         'vizwiz': 2,\n",
       "         'ham': 2,\n",
       "         'macbook pro': 2,\n",
       "         'static': 2,\n",
       "         'pepto bismol': 2,\n",
       "         'lanvin': 2,\n",
       "         'cheddar cheese': 2,\n",
       "         'iphone box': 2,\n",
       "         'mcdonalds cup': 2,\n",
       "         'philips': 2,\n",
       "         'supreme': 2,\n",
       "         'weeds': 2,\n",
       "         '2%': 2,\n",
       "         'animal crackers': 2,\n",
       "         'piggy bank': 2,\n",
       "         'tabby': 2,\n",
       "         'styrofoam cup': 2,\n",
       "         'yellow green': 2,\n",
       "         'chicken bacon': 2,\n",
       "         'aeropostale': 2,\n",
       "         'baby food': 2,\n",
       "         'dual force': 2,\n",
       "         'honey': 2,\n",
       "         'jamaican jerk marinade': 2,\n",
       "         'lemon citrus': 2,\n",
       "         'sherry': 2,\n",
       "         'ziti': 2,\n",
       "         'police': 2,\n",
       "         'faithful elephants': 2,\n",
       "         'turkey tetrazzini': 2,\n",
       "         'bug': 2,\n",
       "         'poultry seasoning': 2,\n",
       "         '325': 2,\n",
       "         'social security administration': 2,\n",
       "         'almonds': 2,\n",
       "         'pac man': 2,\n",
       "         'empty': 2,\n",
       "         'far right': 2,\n",
       "         'man': 2,\n",
       "         'label': 2,\n",
       "         'dashboard': 2,\n",
       "         'mixed': 2,\n",
       "         'id give up chocolate but im not quitter': 2,\n",
       "         'chicken breasts': 2,\n",
       "         'napkins': 2,\n",
       "         'hot dogs': 2,\n",
       "         'tape dispenser': 2,\n",
       "         'poster': 2,\n",
       "         '50000': 2,\n",
       "         'windows 8': 2,\n",
       "         'packers': 2,\n",
       "         'futuro': 2,\n",
       "         'speakers': 2,\n",
       "         'almond': 2,\n",
       "         'heart': 2,\n",
       "         'cinnamon spice': 2,\n",
       "         'tide': 2,\n",
       "         'red kidney beans': 2,\n",
       "         'berry': 2,\n",
       "         'sliced carrots': 2,\n",
       "         'bandages': 2,\n",
       "         'oranges': 2,\n",
       "         'ice cream maker': 2,\n",
       "         '77': 2,\n",
       "         'shelf': 2,\n",
       "         'coffee pot': 2,\n",
       "         'cell phone screen': 2,\n",
       "         'language': 2,\n",
       "         'cheesecake': 2,\n",
       "         'horizontal': 2,\n",
       "         'braille machine': 2,\n",
       "         'blue silver': 2,\n",
       "         'nexcare skin cream': 2,\n",
       "         'bamboo shoots': 2,\n",
       "         'christmas': 2,\n",
       "         'cheddar broccoli rice': 2,\n",
       "         'white black stripes': 2,\n",
       "         'pioneer': 2,\n",
       "         'spaghetti bologna': 2,\n",
       "         'cut green beans': 2,\n",
       "         'milky way': 2,\n",
       "         'zipper': 2,\n",
       "         'coconut oil': 2,\n",
       "         'whirlpool': 2,\n",
       "         'newspaper': 2,\n",
       "         '148 75': 2,\n",
       "         'salmon': 2,\n",
       "         'wild blueberry': 2,\n",
       "         'french onion': 2,\n",
       "         'walmart': 2,\n",
       "         'breakfast in bed': 2,\n",
       "         'queen cups': 2,\n",
       "         'baby shampoo': 2,\n",
       "         'whisky': 2,\n",
       "         'cleaning product': 2,\n",
       "         'women': 2,\n",
       "         'ham cheese': 2,\n",
       "         'both': 2,\n",
       "         'pink green': 2,\n",
       "         'outback steakhouse steak rub no salt': 2,\n",
       "         'jasmine green tea': 2,\n",
       "         'desktop computer': 2,\n",
       "         'plate': 2,\n",
       "         'plug': 2,\n",
       "         'english mustard': 2,\n",
       "         'm': 2,\n",
       "         'talking timer': 2,\n",
       "         '9 upside down': 2,\n",
       "         ...})"
      ]
     },
     "execution_count": 53,
     "metadata": {},
     "output_type": "execute_result"
    }
   ],
   "source": [
    "mode_answer_counts"
   ]
  },
  {
   "cell_type": "code",
   "execution_count": 54,
   "metadata": {},
   "outputs": [
    {
     "data": {
      "text/plain": [
       "19873"
      ]
     },
     "execution_count": 54,
     "metadata": {},
     "output_type": "execute_result"
    }
   ],
   "source": [
    "sum(mode_answer_counts.values())"
   ]
  },
  {
   "cell_type": "code",
   "execution_count": null,
   "metadata": {},
   "outputs": [],
   "source": []
  }
 ],
 "metadata": {
  "kernelspec": {
   "display_name": "Python 3",
   "language": "python",
   "name": "python3"
  },
  "language_info": {
   "codemirror_mode": {
    "name": "ipython",
    "version": 3
   },
   "file_extension": ".py",
   "mimetype": "text/x-python",
   "name": "python",
   "nbconvert_exporter": "python",
   "pygments_lexer": "ipython3",
   "version": "3.10.12"
  }
 },
 "nbformat": 4,
 "nbformat_minor": 2
}
